{
 "cells": [
  {
   "cell_type": "code",
   "execution_count": 2,
   "id": "c42b7929-d710-4dfa-a865-fa83816ad233",
   "metadata": {},
   "outputs": [],
   "source": [
    "from py2neo import Graph\n",
    "import warnings\n",
    "warnings.filterwarnings(\"ignore\")"
   ]
  },
  {
   "cell_type": "code",
   "execution_count": 3,
   "id": "e5244b54-9dda-43e1-a4aa-5acc96f10298",
   "metadata": {},
   "outputs": [],
   "source": [
    "kg= Graph(\"bolt://localhost:7687\", auth=(\"neo4j\", \"12345678\"))"
   ]
  },
  {
   "cell_type": "code",
   "execution_count": 4,
   "id": "b223463f-57e0-449c-a967-7d7cecf7ced2",
   "metadata": {},
   "outputs": [],
   "source": [
    "cypher = \"\"\"\n",
    "MATCH (n)\n",
    "RETURN count(n) AS total_nodes\n",
    "\"\"\""
   ]
  },
  {
   "cell_type": "code",
   "execution_count": 5,
   "id": "62093eae-baec-4e06-8e54-b3d08399c944",
   "metadata": {},
   "outputs": [
    {
     "name": "stdout",
     "output_type": "stream",
     "text": [
      " total_nodes \n",
      "-------------\n",
      "         849 \n",
      "\n"
     ]
    }
   ],
   "source": [
    "result = kg.run(cypher)\n",
    "print(result)"
   ]
  },
  {
   "cell_type": "code",
   "execution_count": 6,
   "id": "e50a9393-5cf3-465b-8f13-fd6e4f9391e3",
   "metadata": {},
   "outputs": [
    {
     "name": "stdout",
     "output_type": "stream",
     "text": [
      "<class 'py2neo.cypher.Cursor'>\n"
     ]
    }
   ],
   "source": [
    "print(type(result))"
   ]
  },
  {
   "cell_type": "code",
   "execution_count": 7,
   "id": "ba1f6ce5-f92d-4530-b755-3eb428969afd",
   "metadata": {},
   "outputs": [
    {
     "name": "stdout",
     "output_type": "stream",
     "text": [
      "There are 849 nodes in this graph.\n"
     ]
    }
   ],
   "source": [
    "total_nodes = result.evaluate()\n",
    "print(f\"There are {total_nodes} nodes in this graph.\")"
   ]
  },
  {
   "cell_type": "code",
   "execution_count": 8,
   "id": "f84c8b1e-288d-43d0-9ea4-45b91fa9f471",
   "metadata": {},
   "outputs": [
    {
     "data": {
      "text/html": [
       "<table><tr><th>totalDrivers</th></tr><tr><td style=\"text-align:right\">14</td></tr></table>"
      ],
      "text/plain": [
       " totalDrivers \n",
       "--------------\n",
       "           14 "
      ]
     },
     "execution_count": 8,
     "metadata": {},
     "output_type": "execute_result"
    }
   ],
   "source": [
    "cypher = \"\"\"\n",
    "MATCH(n:Drivers)\n",
    "RETURN count(n) AS totalDrivers\n",
    "\"\"\"\n",
    "\n",
    "kg.run(cypher)"
   ]
  },
  {
   "cell_type": "code",
   "execution_count": 9,
   "id": "cb356b35-663b-4f41-b752-a69cf9d03fce",
   "metadata": {},
   "outputs": [],
   "source": [
    "cypher = \"\"\"\n",
    "MATCH(n:Drivers {name:\"Nadeem\"})\n",
    "RETURN n\n",
    "\"\"\"\n",
    "result = kg.run(cypher)"
   ]
  },
  {
   "cell_type": "code",
   "execution_count": 10,
   "id": "fb2c4222-aead-4695-82c2-efccbb16017c",
   "metadata": {},
   "outputs": [],
   "source": [
    "data = result.evaluate()"
   ]
  },
  {
   "cell_type": "code",
   "execution_count": 11,
   "id": "366b0ec1-c031-4319-a08d-044338de4ed5",
   "metadata": {},
   "outputs": [
    {
     "name": "stdout",
     "output_type": "stream",
     "text": [
      "(_1873:Drivers {contact: '00971 800 600072', email: 'driver2.captain@nooora.ae', gender: 'male', id: 423, job_title: 'Driver', name: 'Nadeem', private_address: 'Alqoz near oasis centre, Al Quoz, Dubai', working_shift: \"Driver's Working Schedule\"})\n"
     ]
    }
   ],
   "source": [
    "print(data)"
   ]
  },
  {
   "cell_type": "code",
   "execution_count": 12,
   "id": "95223c0e-1944-4b1e-8523-752d1b53f1e5",
   "metadata": {},
   "outputs": [
    {
     "name": "stdout",
     "output_type": "stream",
     "text": [
      "<class 'py2neo.data.Node'>\n"
     ]
    }
   ],
   "source": [
    "print(type(data))"
   ]
  },
  {
   "cell_type": "code",
   "execution_count": 13,
   "id": "4a9939c5-dad3-4370-8ee4-2ed951d0363b",
   "metadata": {},
   "outputs": [
    {
     "name": "stdout",
     "output_type": "stream",
     "text": [
      "00971 800 600072\n"
     ]
    }
   ],
   "source": [
    "print(data.get('contact'))\n"
   ]
  }
 ],
 "metadata": {
  "kernelspec": {
   "display_name": "Python 3 (ipykernel)",
   "language": "python",
   "name": "python3"
  },
  "language_info": {
   "codemirror_mode": {
    "name": "ipython",
    "version": 3
   },
   "file_extension": ".py",
   "mimetype": "text/x-python",
   "name": "python",
   "nbconvert_exporter": "python",
   "pygments_lexer": "ipython3",
   "version": "3.12.3"
  }
 },
 "nbformat": 4,
 "nbformat_minor": 5
}
