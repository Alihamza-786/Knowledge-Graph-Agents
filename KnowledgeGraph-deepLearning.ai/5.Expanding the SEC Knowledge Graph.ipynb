{
 "cells": [
  {
   "cell_type": "code",
   "execution_count": 27,
   "id": "b71cdec3-4329-4681-9e78-b2bd9c9b22bf",
   "metadata": {},
   "outputs": [],
   "source": [
    "from dotenv import load_dotenv\n",
    "import os\n",
    "import textwrap\n",
    "\n",
    "# Langchain\n",
    "from langchain_community.graphs import Neo4jGraph\n",
    "from langchain_community.vectorstores import Neo4jVector\n",
    "from langchain_ollama import OllamaEmbeddings\n",
    "from langchain.text_splitter import RecursiveCharacterTextSplitter\n",
    "from langchain.chains import RetrievalQAWithSourcesChain\n",
    "from langchain_ollama import ChatOllama\n",
    "\n",
    "# Warning control\n",
    "import warnings\n",
    "warnings.filterwarnings(\"ignore\")"
   ]
  },
  {
   "cell_type": "code",
   "execution_count": 28,
   "id": "36d3c4f7-34d8-45a6-98aa-61a382f3e3f2",
   "metadata": {},
   "outputs": [],
   "source": [
    "# Load from environment\n",
    "load_dotenv('.env', override=True)\n",
    "NEO4J_URI = os.getenv('NEO4J_URI')\n",
    "NEO4J_USERNAME = os.getenv('NEO4J_USERNAME')\n",
    "NEO4J_PASSWORD = os.getenv('NEO4J_PASSWORD')\n",
    "NEO4J_DATABASE = os.getenv('NEO4J_DATABASE') or 'neo4j'\n",
    "\n",
    "# Global constants\n",
    "VECTOR_INDEX_NAME = 'form_10k_chunks'\n",
    "VECTOR_NODE_LABEL = 'Chunk'\n",
    "VECTOR_SOURCE_PROPERTY = 'text'\n",
    "VECTOR_EMBEDDING_PROPERTY = 'textEmbedding'"
   ]
  },
  {
   "cell_type": "code",
   "execution_count": 29,
   "id": "8920592f-59c6-40ba-abfd-0d2ff2cdccd6",
   "metadata": {},
   "outputs": [],
   "source": [
    "kg = Neo4jGraph(\n",
    "    url=NEO4J_URI, \n",
    "    username=NEO4J_USERNAME, \n",
    "    password=NEO4J_PASSWORD, \n",
    "    database=NEO4J_DATABASE\n",
    ")"
   ]
  },
  {
   "cell_type": "markdown",
   "id": "d18d4dc1-45ff-4f62-88bf-b44b9a98b662",
   "metadata": {},
   "source": [
    "## Read the collection of Form 13s\n",
    "- Investment management firms must report on their investments in companies to the SEC by filing a document called Form 13\n",
    "- You'll load a collection of Form 13 for managers that have invested in NetApp\n",
    "- You can check out the CSV file by navigating to the data directory using the File menu at the top of the notebook"
   ]
  },
  {
   "cell_type": "code",
   "execution_count": 30,
   "id": "f1ef9af9-ddcd-490d-947e-605494b90164",
   "metadata": {},
   "outputs": [],
   "source": [
    "import csv\n",
    "all_form13s = []\n",
    "with open('./data/form13.csv', mode='r') as csv_file:\n",
    "    csv_reader = csv.DictReader(csv_file)\n",
    "    for row in csv_reader:\n",
    "        all_form13s.append(row)"
   ]
  },
  {
   "cell_type": "markdown",
   "id": "c5c51376-858d-4b0f-b2c7-80fb5d3f75aa",
   "metadata": {},
   "source": [
    "### Look at the contents of the first 5 Form 13s"
   ]
  },
  {
   "cell_type": "code",
   "execution_count": 31,
   "id": "c48c7e05-5d7f-487a-b8bc-beb392d994f2",
   "metadata": {},
   "outputs": [
    {
     "data": {
      "text/plain": [
       "[{'source': 'https://sec.gov/Archives/edgar/data/1000275/0001140361-23-039575.txt',\n",
       "  'managerCik': '1000275',\n",
       "  'managerAddress': 'ROYAL BANK PLAZA, 200 BAY STREET, TORONTO, A6, M5J2J5',\n",
       "  'managerName': 'Royal Bank of Canada',\n",
       "  'reportCalendarOrQuarter': '2023-06-30',\n",
       "  'cusip6': '64110D',\n",
       "  'cusip': '64110D104',\n",
       "  'companyName': 'NETAPP INC',\n",
       "  'value': '64395000000.0',\n",
       "  'shares': '842850'},\n",
       " {'source': 'https://sec.gov/Archives/edgar/data/1002784/0001387131-23-009542.txt',\n",
       "  'managerCik': '1002784',\n",
       "  'managerAddress': '1875 Lawrence Street, Suite 300, Denver, CO, 80202-1805',\n",
       "  'managerName': 'SHELTON CAPITAL MANAGEMENT',\n",
       "  'reportCalendarOrQuarter': '2023-06-30',\n",
       "  'cusip6': '64110D',\n",
       "  'cusip': '64110D104',\n",
       "  'companyName': 'NETAPP INC',\n",
       "  'value': '2989085000.0',\n",
       "  'shares': '39124'},\n",
       " {'source': 'https://sec.gov/Archives/edgar/data/1007280/0001007280-23-000008.txt',\n",
       "  'managerCik': '1007280',\n",
       "  'managerAddress': '277 E TOWN ST, COLUMBUS, OH, 43215',\n",
       "  'managerName': 'PUBLIC EMPLOYEES RETIREMENT SYSTEM OF OHIO',\n",
       "  'reportCalendarOrQuarter': '2023-06-30',\n",
       "  'cusip6': '64110D',\n",
       "  'cusip': '64110D104',\n",
       "  'companyName': 'Netapp Inc',\n",
       "  'value': '8170000.0',\n",
       "  'shares': '106941'},\n",
       " {'source': 'https://sec.gov/Archives/edgar/data/1007399/0001007399-23-000004.txt',\n",
       "  'managerCik': '1007399',\n",
       "  'managerAddress': '150 WEST MAIN STREET, SUITE 1700, NORFOLK, VA, 23510',\n",
       "  'managerName': 'WILBANKS SMITH & THOMAS ASSET MANAGEMENT LLC',\n",
       "  'reportCalendarOrQuarter': '2023-06-30',\n",
       "  'cusip6': '64110D',\n",
       "  'cusip': '64110D104',\n",
       "  'companyName': 'NETAPP INC',\n",
       "  'value': '505539000.0',\n",
       "  'shares': '6617'},\n",
       " {'source': 'https://sec.gov/Archives/edgar/data/1008894/0001172661-23-003025.txt',\n",
       "  'managerCik': '1008894',\n",
       "  'managerAddress': '250 Park Avenue South, Suite 250, Winter Park, FL, 32789',\n",
       "  'managerName': 'DEPRINCE RACE & ZOLLO INC',\n",
       "  'reportCalendarOrQuarter': '2023-06-30',\n",
       "  'cusip6': '64110D',\n",
       "  'cusip': '64110D104',\n",
       "  'companyName': 'NETAPP INC',\n",
       "  'value': '24492389000.0',\n",
       "  'shares': '320581'}]"
      ]
     },
     "execution_count": 31,
     "metadata": {},
     "output_type": "execute_result"
    }
   ],
   "source": [
    "all_form13s[0:5]"
   ]
  },
  {
   "cell_type": "code",
   "execution_count": 32,
   "id": "29ec7e62-aa52-4769-becb-272df6d6e8ac",
   "metadata": {},
   "outputs": [
    {
     "data": {
      "text/plain": [
       "561"
      ]
     },
     "execution_count": 32,
     "metadata": {},
     "output_type": "execute_result"
    }
   ],
   "source": [
    "len(all_form13s)"
   ]
  },
  {
   "cell_type": "markdown",
   "id": "bcfb7a75-e3ec-447a-8f56-5a4667ff1858",
   "metadata": {},
   "source": [
    "## Create company nodes in the graph\n",
    "- Use the companies identified in the Form 13s to create Company nodes\n",
    "- For now, there is only one company - NetApp"
   ]
  },
  {
   "cell_type": "code",
   "execution_count": 33,
   "id": "578c8465-972a-4cd5-920d-d1a6dce82c00",
   "metadata": {},
   "outputs": [
    {
     "data": {
      "text/plain": [
       "[]"
      ]
     },
     "execution_count": 33,
     "metadata": {},
     "output_type": "execute_result"
    }
   ],
   "source": [
    "first_form13 = all_form13s[0]\n",
    "\n",
    "cypher = \"\"\"\n",
    "MERGE (com:Company {cusip6: $cusip6})\n",
    " ON CREATE\n",
    "  SET com.companyName = $companyName,\n",
    "   com.cusip = $cusip\n",
    "\"\"\"\n",
    "\n",
    "kg.query(cypher, params={\n",
    "    'cusip6': first_form13['cusip6'],\n",
    "    'companyName': first_form13['companyName'],\n",
    "    'cusip': first_form13['cusip']\n",
    "})"
   ]
  },
  {
   "cell_type": "code",
   "execution_count": 34,
   "id": "67c236a2-ec85-4709-84fc-c8bf174b10a0",
   "metadata": {},
   "outputs": [
    {
     "data": {
      "text/plain": [
       "[{'com.companyName': 'NETAPP INC', 'form.names': ['Netapp Inc', 'NETAPP INC']}]"
      ]
     },
     "execution_count": 34,
     "metadata": {},
     "output_type": "execute_result"
    }
   ],
   "source": [
    "cypher = \"\"\"\n",
    "MATCH (com:Company), (form:Form)\n",
    " WHERE com.cusip6 = form.cusip6\n",
    "RETURN com.companyName, form.names\n",
    "\"\"\"\n",
    "kg.query(cypher)"
   ]
  },
  {
   "cell_type": "code",
   "execution_count": 35,
   "id": "58871571-874f-47ec-87e7-4d93fcc002bc",
   "metadata": {},
   "outputs": [
    {
     "data": {
      "text/plain": [
       "[]"
      ]
     },
     "execution_count": 35,
     "metadata": {},
     "output_type": "execute_result"
    }
   ],
   "source": [
    "cypher = \"\"\"\n",
    "MATCH (com:Company), (form:Form)\n",
    " WHERE com.cusip6 = form.cusip6\n",
    "SET com.names = form.names\n",
    "\"\"\"\n",
    "kg.query(cypher)"
   ]
  },
  {
   "cell_type": "markdown",
   "id": "48ab1f5f-ef22-4fc8-8062-83adbfd76dff",
   "metadata": {},
   "source": [
    "Create a FILED relationship between the company and the Form-10K node"
   ]
  },
  {
   "cell_type": "code",
   "execution_count": 36,
   "id": "b85fd4be-6dc6-48f6-9eb8-1f2bf47747fe",
   "metadata": {},
   "outputs": [
    {
     "data": {
      "text/plain": [
       "[]"
      ]
     },
     "execution_count": 36,
     "metadata": {},
     "output_type": "execute_result"
    }
   ],
   "source": [
    "kg.query(\"\"\"\n",
    "  MATCH (com:Company), (form:Form)\n",
    "    WHERE com.cusip6 = form.cusip6\n",
    "  MERGE (com)-[:FILED]->(form)\n",
    "\"\"\")"
   ]
  },
  {
   "cell_type": "markdown",
   "id": "60a9814f-afd1-4734-90a2-3889899003df",
   "metadata": {},
   "source": [
    "## Create manager nodes\n",
    "- Create a manager node for companies that have filed a Form 13 to report their investment in NetApp\n",
    "- Start with the single manager who filed the first Form 13 in the list"
   ]
  },
  {
   "cell_type": "code",
   "execution_count": 37,
   "id": "5c6e2ff1-c424-49bd-b521-38ec2411ecc7",
   "metadata": {},
   "outputs": [
    {
     "data": {
      "text/plain": [
       "[]"
      ]
     },
     "execution_count": 37,
     "metadata": {},
     "output_type": "execute_result"
    }
   ],
   "source": [
    "cypher = \"\"\"\n",
    "  MERGE (mgr:Manager {managerCik: $managerParam.managerCik})\n",
    "    ON CREATE\n",
    "        SET mgr.managerName = $managerParam.managerName,\n",
    "            mgr.managerAddress = $managerParam.managerAddress\n",
    "\"\"\"\n",
    "\n",
    "kg.query(cypher, params={'managerParam': first_form13})"
   ]
  },
  {
   "cell_type": "code",
   "execution_count": 38,
   "id": "de966769-6321-4113-8f76-7be53c3d31cc",
   "metadata": {},
   "outputs": [
    {
     "data": {
      "text/plain": [
       "[{'mgr': {'managerCik': '1000275',\n",
       "   'managerAddress': 'ROYAL BANK PLAZA, 200 BAY STREET, TORONTO, A6, M5J2J5',\n",
       "   'managerName': 'Royal Bank of Canada'}}]"
      ]
     },
     "execution_count": 38,
     "metadata": {},
     "output_type": "execute_result"
    }
   ],
   "source": [
    "kg.query(\"\"\"\n",
    "  MATCH (mgr:Manager)\n",
    "  RETURN mgr LIMIT 1\n",
    "\"\"\")"
   ]
  },
  {
   "cell_type": "markdown",
   "id": "9c998906-8ea8-466c-82ca-b2cf801fb636",
   "metadata": {},
   "source": [
    "- Create a uniquness constraint to avoid duplicate managers"
   ]
  },
  {
   "cell_type": "code",
   "execution_count": 39,
   "id": "329bade1-1340-4072-be46-f02185f482cb",
   "metadata": {},
   "outputs": [
    {
     "data": {
      "text/plain": [
       "[]"
      ]
     },
     "execution_count": 39,
     "metadata": {},
     "output_type": "execute_result"
    }
   ],
   "source": [
    "kg.query(\"\"\"\n",
    "CREATE CONSTRAINT unique_manager \n",
    "  IF NOT EXISTS\n",
    "  FOR (n:Manager) \n",
    "  REQUIRE n.managerCik IS UNIQUE\n",
    "\"\"\")"
   ]
  },
  {
   "cell_type": "markdown",
   "id": "1f04995f-23b7-4ee7-8ffc-259d90258032",
   "metadata": {},
   "source": [
    "- Create a fulltext index of manager names to enable text search"
   ]
  },
  {
   "cell_type": "code",
   "execution_count": 40,
   "id": "70d1cd60-5a8c-4e55-ae27-72383e4d5a3b",
   "metadata": {},
   "outputs": [
    {
     "data": {
      "text/plain": [
       "[]"
      ]
     },
     "execution_count": 40,
     "metadata": {},
     "output_type": "execute_result"
    }
   ],
   "source": [
    "kg.query(\"\"\"\n",
    "CREATE FULLTEXT INDEX fullTextManagerNames\n",
    "  IF NOT EXISTS\n",
    "  FOR (mgr:Manager) \n",
    "  ON EACH [mgr.managerName]\n",
    "\"\"\")\n"
   ]
  },
  {
   "cell_type": "code",
   "execution_count": 41,
   "id": "56ffcec8-01d7-4d05-85ed-b84d6a58e5be",
   "metadata": {},
   "outputs": [
    {
     "data": {
      "text/plain": [
       "[{'node.managerName': 'Royal Bank of Canada', 'score': 3.7019896507263184},\n",
       " {'node.managerName': 'Royal Fund Management, LLC',\n",
       "  'score': 2.2780675888061523},\n",
       " {'node.managerName': 'ROYAL LONDON ASSET MANAGEMENT LTD',\n",
       "  'score': 2.063053607940674},\n",
       " {'node.managerName': 'AMALGAMATED BANK', 'score': 1.798886775970459},\n",
       " {'node.managerName': 'COMMERCE BANK', 'score': 1.798886775970459},\n",
       " {'node.managerName': 'UMB Bank, n.a.', 'score': 1.5895916223526},\n",
       " {'node.managerName': 'Norinchukin Bank, The', 'score': 1.5895916223526},\n",
       " {'node.managerName': 'HUNTINGTON NATIONAL BANK', 'score': 1.5895916223526},\n",
       " {'node.managerName': 'Swiss National Bank', 'score': 1.5895916223526},\n",
       " {'node.managerName': 'AMERICAN NATIONAL BANK', 'score': 1.5895916223526},\n",
       " {'node.managerName': 'TORONTO DOMINION BANK', 'score': 1.5895916223526},\n",
       " {'node.managerName': 'Bangor Savings Bank', 'score': 1.5895916223526},\n",
       " {'node.managerName': 'Czech National Bank', 'score': 1.5895916223526},\n",
       " {'node.managerName': 'DEUTSCHE BANK AG\\\\', 'score': 1.5895916223526},\n",
       " {'node.managerName': 'City State Bank', 'score': 1.5895916223526},\n",
       " {'node.managerName': 'M&T Bank Corp', 'score': 1.4239221811294556},\n",
       " {'node.managerName': 'BANK OF NOVA SCOTIA', 'score': 1.4239221811294556},\n",
       " {'node.managerName': 'BANK OF MONTREAL /CAN/', 'score': 1.4239221811294556},\n",
       " {'node.managerName': 'CENTRAL BANK & TRUST CO', 'score': 1.4239221811294556},\n",
       " {'node.managerName': 'Bank of New Hampshire', 'score': 1.4239221811294556},\n",
       " {'node.managerName': 'Parkside Financial Bank & Trust',\n",
       "  'score': 1.4239221811294556},\n",
       " {'node.managerName': 'DZ BANK AG Deutsche Zentral Genossenschafts Bank, Frankfurt am Main',\n",
       "  'score': 1.3731980323791504},\n",
       " {'node.managerName': 'NATIONAL BANK OF CANADA /FI/',\n",
       "  'score': 1.2895262241363525},\n",
       " {'node.managerName': 'BANK OF AMERICA CORP /DE/',\n",
       "  'score': 1.2895262241363525},\n",
       " {'node.managerName': 'Bank of New York Mellon Corp',\n",
       "  'score': 1.178311824798584}]"
      ]
     },
     "execution_count": 41,
     "metadata": {},
     "output_type": "execute_result"
    }
   ],
   "source": [
    "kg.query(\"\"\"\n",
    "  CALL db.index.fulltext.queryNodes(\"fullTextManagerNames\", \n",
    "      \"royal bank\") YIELD node, score\n",
    "  RETURN node.managerName, score\n",
    "\"\"\")"
   ]
  },
  {
   "cell_type": "markdown",
   "id": "8d5c839e-a950-4087-abf3-006c7c95fce5",
   "metadata": {},
   "source": [
    "- Create nodes for all companies that filed a Form 13"
   ]
  },
  {
   "cell_type": "code",
   "execution_count": 42,
   "id": "f67163ff-918f-4da0-9a15-a5351d0253ce",
   "metadata": {},
   "outputs": [],
   "source": [
    "cypher = \"\"\"\n",
    "  MERGE (mgr:Manager {managerCik: $managerParam.managerCik})\n",
    "    ON CREATE\n",
    "        SET mgr.managerName = $managerParam.managerName,\n",
    "            mgr.managerAddress = $managerParam.managerAddress\n",
    "\"\"\"\n",
    "# loop through all Form 13s\n",
    "for form13 in all_form13s:\n",
    "  kg.query(cypher, params={'managerParam': form13 })"
   ]
  },
  {
   "cell_type": "code",
   "execution_count": 43,
   "id": "2c18c06d-c5a0-4cfe-b4ab-0a6c642563c6",
   "metadata": {},
   "outputs": [
    {
     "data": {
      "text/plain": [
       "[{'count(mgr)': 561}]"
      ]
     },
     "execution_count": 43,
     "metadata": {},
     "output_type": "execute_result"
    }
   ],
   "source": [
    "kg.query(\"\"\"\n",
    "    MATCH (mgr:Manager) \n",
    "    RETURN count(mgr)\n",
    "\"\"\")"
   ]
  },
  {
   "cell_type": "markdown",
   "id": "66f86d31-3847-4eff-8905-367a42f7c802",
   "metadata": {},
   "source": [
    "## Create relationships between managers and companies\n",
    "- Match companies with managers based on data in the Form 13\n",
    "- Create an OWNS_STOCK_IN relationship between the manager and the company\n",
    "- Start with the single manager who filed the first Form 13 in the list"
   ]
  },
  {
   "cell_type": "code",
   "execution_count": 44,
   "id": "b48c7862-b330-4a36-84e1-1a7b6511cb84",
   "metadata": {},
   "outputs": [
    {
     "data": {
      "text/plain": [
       "[{'mgr.managerName': 'Royal Bank of Canada',\n",
       "  'com.companyName': 'NETAPP INC',\n",
       "  'investment': {'shares': '842850',\n",
       "   'source': 'https://sec.gov/Archives/edgar/data/1000275/0001140361-23-039575.txt',\n",
       "   'managerName': 'Royal Bank of Canada',\n",
       "   'managerAddress': 'ROYAL BANK PLAZA, 200 BAY STREET, TORONTO, A6, M5J2J5',\n",
       "   'value': '64395000000.0',\n",
       "   'cusip6': '64110D',\n",
       "   'cusip': '64110D104',\n",
       "   'reportCalendarOrQuarter': '2023-06-30',\n",
       "   'companyName': 'NETAPP INC',\n",
       "   'managerCik': '1000275'}}]"
      ]
     },
     "execution_count": 44,
     "metadata": {},
     "output_type": "execute_result"
    }
   ],
   "source": [
    "cypher = \"\"\"\n",
    "  MATCH (mgr:Manager {managerCik: $investmentParam.managerCik}), \n",
    "        (com:Company {cusip6: $investmentParam.cusip6})\n",
    "  RETURN mgr.managerName, com.companyName, $investmentParam as investment\n",
    "\"\"\"\n",
    "\n",
    "kg.query(cypher, params={ \n",
    "    'investmentParam': first_form13 \n",
    "})"
   ]
  },
  {
   "cell_type": "code",
   "execution_count": 45,
   "id": "a7f421a8-9935-4f1c-b340-2b67c003ed74",
   "metadata": {},
   "outputs": [
    {
     "data": {
      "text/plain": [
       "[{'mgr.managerName': 'Royal Bank of Canada',\n",
       "  'owns.reportCalendarOrQuarter': '2023-06-30',\n",
       "  'com.companyName': 'NETAPP INC'}]"
      ]
     },
     "execution_count": 45,
     "metadata": {},
     "output_type": "execute_result"
    }
   ],
   "source": [
    "cypher = \"\"\"\n",
    "MATCH (mgr:Manager {managerCik: $ownsParam.managerCik}), \n",
    "        (com:Company {cusip6: $ownsParam.cusip6})\n",
    "MERGE (mgr)-[owns:OWNS_STOCK_IN { \n",
    "    reportCalendarOrQuarter: $ownsParam.reportCalendarOrQuarter\n",
    "}]->(com)\n",
    "ON CREATE\n",
    "    SET owns.value  = toFloat($ownsParam.value), \n",
    "        owns.shares = toInteger($ownsParam.shares)\n",
    "RETURN mgr.managerName, owns.reportCalendarOrQuarter, com.companyName\n",
    "\"\"\"\n",
    "\n",
    "kg.query(cypher, params={ 'ownsParam': first_form13 })"
   ]
  },
  {
   "cell_type": "code",
   "execution_count": 46,
   "id": "8372c861-c669-42d6-85ea-e41965cd745a",
   "metadata": {},
   "outputs": [
    {
     "data": {
      "text/plain": [
       "[{'owns': {'shares': 842850, 'value': 64395000000.0}}]"
      ]
     },
     "execution_count": 46,
     "metadata": {},
     "output_type": "execute_result"
    }
   ],
   "source": [
    "kg.query(\"\"\"\n",
    "MATCH (mgr:Manager {managerCik: $ownsParam.managerCik})\n",
    "-[owns:OWNS_STOCK_IN]->\n",
    "        (com:Company {cusip6: $ownsParam.cusip6})\n",
    "RETURN owns { .shares, .value }\n",
    "\"\"\", params={ 'ownsParam': first_form13 })"
   ]
  },
  {
   "cell_type": "markdown",
   "id": "cd7d976c-6f82-4800-af3c-efcb0f8ac5a5",
   "metadata": {},
   "source": [
    "- Create relationships between all of the managers who filed Form 13s and the company"
   ]
  },
  {
   "cell_type": "code",
   "execution_count": 50,
   "id": "7903109b-6163-4647-8afc-5cab0d462b73",
   "metadata": {},
   "outputs": [],
   "source": [
    "cypher = \"\"\"\n",
    "MATCH (mgr:Manager {managerCik: $ownsParam.managerCik}), \n",
    "        (com:Company {cusip6: $ownsParam.cusip6})\n",
    "MERGE (mgr)-[owns:OWNS_STOCK_IN { \n",
    "    reportCalendarOrQuarter: $ownsParam.reportCalendarOrQuarter \n",
    "    }]->(com)\n",
    "  ON CREATE\n",
    "    SET owns.value  = toFloat($ownsParam.value), \n",
    "        owns.shares = toInteger($ownsParam.shares)\n",
    "\"\"\"\n",
    "\n",
    "#loop through all Form 13s\n",
    "for form13 in all_form13s:\n",
    "  kg.query(cypher, params={'ownsParam': form13 })"
   ]
  },
  {
   "cell_type": "code",
   "execution_count": 51,
   "id": "0f17f20e-35f8-4c26-924b-6da9349999a7",
   "metadata": {},
   "outputs": [
    {
     "data": {
      "text/plain": [
       "[{'investments': 561}]"
      ]
     },
     "execution_count": 51,
     "metadata": {},
     "output_type": "execute_result"
    }
   ],
   "source": [
    "cypher = \"\"\"\n",
    "  MATCH (:Manager)-[owns:OWNS_STOCK_IN]->(:Company)\n",
    "  RETURN count(owns) as investments\n",
    "\"\"\"\n",
    "\n",
    "kg.query(cypher)"
   ]
  },
  {
   "cell_type": "code",
   "execution_count": 52,
   "id": "3e35eaf8-2605-4355-93e6-6bf5f25a0fb8",
   "metadata": {},
   "outputs": [
    {
     "name": "stdout",
     "output_type": "stream",
     "text": [
      "Node properties: Chunk {chunkId: STRING, names: LIST,\n",
      "formId: STRING, cik: STRING, cusip6: STRING, source: STRING,\n",
      "f10kItem: STRING, chunkSeqId: INTEGER, text: STRING,\n",
      "textEmbedding: LIST} Form {names: LIST, formId: STRING, cik:\n",
      "STRING, cusip6: STRING, source: STRING} Company {names:\n",
      "LIST, cusip6: STRING, companyName: STRING, cusip: STRING}\n",
      "Manager {managerCik: STRING, managerName: STRING,\n",
      "managerAddress: STRING} Relationship properties: SECTION\n",
      "{f10kItem: STRING} OWNS_STOCK_IN {reportCalendarOrQuarter:\n",
      "STRING, value: FLOAT, shares: INTEGER} The relationships:\n",
      "(:Chunk)-[:NEXT]->(:Chunk) (:Chunk)-[:PART_OF]->(:Form)\n",
      "(:Form)-[:SECTION]->(:Chunk) (:Company)-[:FILED]->(:Form)\n",
      "(:Manager)-[:OWNS_STOCK_IN]->(:Company)\n"
     ]
    }
   ],
   "source": [
    "kg.refresh_schema()\n",
    "print(textwrap.fill(kg.schema, 60))"
   ]
  },
  {
   "cell_type": "markdown",
   "id": "8ba2c8de-0e6e-4328-a7e4-0ff9b2665a5f",
   "metadata": {},
   "source": [
    "# Determine the number of investors\n",
    "- Start by finding a form 10-K chunk, and save to use in subsequent queries"
   ]
  },
  {
   "cell_type": "code",
   "execution_count": 53,
   "id": "97574873-ac57-4cef-b252-88146f638559",
   "metadata": {},
   "outputs": [
    {
     "name": "stdout",
     "output_type": "stream",
     "text": [
      "[{'chunkId': '0000950170-23-027948-item1-chunk0000'}]\n"
     ]
    }
   ],
   "source": [
    "cypher = \"\"\"\n",
    "    MATCH (chunk:Chunk)\n",
    "    RETURN chunk.chunkId as chunkId LIMIT 1\n",
    "    \"\"\"\n",
    "\n",
    "chunk_rows = kg.query(cypher)\n",
    "print(chunk_rows)"
   ]
  },
  {
   "cell_type": "code",
   "execution_count": 54,
   "id": "4b1594c8-2c78-49b6-89c4-d1a68178df4a",
   "metadata": {},
   "outputs": [
    {
     "name": "stdout",
     "output_type": "stream",
     "text": [
      "{'chunkId': '0000950170-23-027948-item1-chunk0000'}\n"
     ]
    }
   ],
   "source": [
    "chunk_first_row = chunk_rows[0]\n",
    "print(chunk_first_row)"
   ]
  },
  {
   "cell_type": "code",
   "execution_count": 55,
   "id": "f109f1fa-f558-4314-a094-8589b8d5340d",
   "metadata": {},
   "outputs": [
    {
     "data": {
      "text/plain": [
       "'0000950170-23-027948-item1-chunk0000'"
      ]
     },
     "execution_count": 55,
     "metadata": {},
     "output_type": "execute_result"
    }
   ],
   "source": [
    "ref_chunk_id = chunk_first_row['chunkId']\n",
    "ref_chunk_id"
   ]
  },
  {
   "cell_type": "markdown",
   "id": "f606d1e9-558f-444a-a724-88b28eb5ee68",
   "metadata": {},
   "source": [
    "- Build up path from Form 10-K chunk to companies and managers"
   ]
  },
  {
   "cell_type": "code",
   "execution_count": 56,
   "id": "d4cce331-f9b2-4580-af91-0272ffef0243",
   "metadata": {},
   "outputs": [
    {
     "data": {
      "text/plain": [
       "[{'f.source': 'https://www.sec.gov/Archives/edgar/data/1002047/000095017023027948/0000950170-23-027948-index.htm'}]"
      ]
     },
     "execution_count": 56,
     "metadata": {},
     "output_type": "execute_result"
    }
   ],
   "source": [
    "cypher = \"\"\"\n",
    "    MATCH (:Chunk {chunkId: $chunkIdParam})-[:PART_OF]->(f:Form)\n",
    "    RETURN f.source\n",
    "    \"\"\"\n",
    "\n",
    "kg.query(cypher, params={'chunkIdParam': ref_chunk_id})"
   ]
  },
  {
   "cell_type": "code",
   "execution_count": 57,
   "id": "e8b92e58-efc7-4d3c-a06d-ba36b8463ba4",
   "metadata": {},
   "outputs": [
    {
     "data": {
      "text/plain": [
       "[{'name': 'NETAPP INC'}]"
      ]
     },
     "execution_count": 57,
     "metadata": {},
     "output_type": "execute_result"
    }
   ],
   "source": [
    "cypher = \"\"\"\n",
    "MATCH (:Chunk {chunkId: $chunkIdParam})-[:PART_OF]->(f:Form),\n",
    "    (com:Company)-[:FILED]->(f)\n",
    "RETURN com.companyName as name\n",
    "\"\"\"\n",
    "\n",
    "kg.query(cypher, params={'chunkIdParam': ref_chunk_id})"
   ]
  },
  {
   "cell_type": "code",
   "execution_count": 58,
   "id": "8b17b6ec-34b1-4b4b-ba60-ad15ea89bcbf",
   "metadata": {},
   "outputs": [
    {
     "data": {
      "text/plain": [
       "[{'com.companyName': 'NETAPP INC', 'numberOfinvestors': 561}]"
      ]
     },
     "execution_count": 58,
     "metadata": {},
     "output_type": "execute_result"
    }
   ],
   "source": [
    "cypher = \"\"\"\n",
    "MATCH (:Chunk {chunkId: $chunkIdParam})-[:PART_OF]->(f:Form),\n",
    "        (com:Company)-[:FILED]->(f),\n",
    "        (mgr:Manager)-[:OWNS_STOCK_IN]->(com)\n",
    "RETURN com.companyName, \n",
    "        count(mgr.managerName) as numberOfinvestors \n",
    "LIMIT 1\n",
    "\"\"\"\n",
    "\n",
    "kg.query(cypher, params={\n",
    "    'chunkIdParam': ref_chunk_id\n",
    "})"
   ]
  },
  {
   "cell_type": "markdown",
   "id": "ac83aa14-bc95-4bf3-ba37-4e5904ec2960",
   "metadata": {},
   "source": [
    "## Use queries to build additional context for LLM\n",
    "- Create sentences that indicate how much stock a manager has invested in a company"
   ]
  },
  {
   "cell_type": "code",
   "execution_count": 59,
   "id": "a2f24290-362f-4ae3-8799-3cab4c41807e",
   "metadata": {},
   "outputs": [
    {
     "data": {
      "text/plain": [
       "[{'text': 'Royal Bank of Canada owns 842850 shares of NETAPP INC at a value of $64,395,000,000'},\n",
       " {'text': 'SHELTON CAPITAL MANAGEMENT owns 39124 shares of NETAPP INC at a value of $2,989,085,000'},\n",
       " {'text': 'PUBLIC EMPLOYEES RETIREMENT SYSTEM OF OHIO owns 106941 shares of NETAPP INC at a value of $8,170,000'},\n",
       " {'text': 'WILBANKS SMITH & THOMAS ASSET MANAGEMENT LLC owns 6617 shares of NETAPP INC at a value of $505,539,000'},\n",
       " {'text': 'DEPRINCE RACE & ZOLLO INC owns 320581 shares of NETAPP INC at a value of $24,492,389,000'},\n",
       " {'text': 'COMMERCE BANK owns 101422 shares of NETAPP INC at a value of $7,748,640,000'},\n",
       " {'text': 'D. E. Shaw & Co., Inc. owns 323440 shares of NETAPP INC at a value of $24,710,816,000'},\n",
       " {'text': 'EDMP, INC. owns 4698 shares of NETAPP INC at a value of $358,927,000'},\n",
       " {'text': 'NATIXIS ADVISORS, L.P. owns 40296 shares of NETAPP INC at a value of $3,079,000'},\n",
       " {'text': 'Smithfield Trust Co owns 215 shares of NETAPP INC at a value of $16,000'}]"
      ]
     },
     "execution_count": 59,
     "metadata": {},
     "output_type": "execute_result"
    }
   ],
   "source": [
    "cypher = \"\"\"\n",
    "    MATCH (:Chunk {chunkId: $chunkIdParam})-[:PART_OF]->(f:Form),\n",
    "        (com:Company)-[:FILED]->(f),\n",
    "        (mgr:Manager)-[owns:OWNS_STOCK_IN]->(com)\n",
    "    RETURN mgr.managerName + \" owns \" + owns.shares + \n",
    "        \" shares of \" + com.companyName + \n",
    "        \" at a value of $\" + \n",
    "        apoc.number.format(toInteger(owns.value)) AS text\n",
    "    LIMIT 10\n",
    "    \"\"\"\n",
    "kg.query(cypher, params={\n",
    "    'chunkIdParam': ref_chunk_id\n",
    "})"
   ]
  },
  {
   "cell_type": "code",
   "execution_count": 60,
   "id": "d402b36b-7105-4661-91b2-794b45ffa06f",
   "metadata": {},
   "outputs": [
    {
     "name": "stdout",
     "output_type": "stream",
     "text": [
      "Royal Bank of Canada owns 842850 shares of NETAPP INC at a\n",
      "value of $64,395,000,000\n"
     ]
    }
   ],
   "source": [
    "results = kg.query(cypher, params={\n",
    "    'chunkIdParam': ref_chunk_id\n",
    "})\n",
    "print(textwrap.fill(results[0]['text'], 60))"
   ]
  },
  {
   "cell_type": "markdown",
   "id": "c8489207-d5ee-4e77-9e96-5d762ddb916d",
   "metadata": {},
   "source": [
    "- Create a plain Question Answer chain\n",
    "- Similarity search only, no augmentation by Cypher Query"
   ]
  },
  {
   "cell_type": "code",
   "execution_count": 61,
   "id": "c7b6877b-c6f6-4121-8da4-472c8c141f07",
   "metadata": {},
   "outputs": [],
   "source": [
    "embeddings = OllamaEmbeddings(model=\"mxbai-embed-large:latest\")"
   ]
  },
  {
   "cell_type": "code",
   "execution_count": 62,
   "id": "49a6415a-d8ef-427f-89e9-1c2cea22eef2",
   "metadata": {},
   "outputs": [],
   "source": [
    "vector_store = Neo4jVector.from_existing_graph(\n",
    "    embedding=embeddings,\n",
    "    url=NEO4J_URI,\n",
    "    username=NEO4J_USERNAME,\n",
    "    password=NEO4J_PASSWORD,\n",
    "    index_name=VECTOR_INDEX_NAME,\n",
    "    node_label=VECTOR_NODE_LABEL,\n",
    "    text_node_properties=[VECTOR_SOURCE_PROPERTY],\n",
    "    embedding_node_property=VECTOR_EMBEDDING_PROPERTY,\n",
    ")\n",
    "# Create a retriever from the vector store\n",
    "retriever = vector_store.as_retriever()\n",
    "\n",
    "# Create a chatbot Question & Answer chain from the retriever\n",
    "plain_chain = RetrievalQAWithSourcesChain.from_chain_type(\n",
    "    ChatOllama(model = 'qwen2.5', temperature=0), \n",
    "    chain_type=\"stuff\", \n",
    "    retriever=retriever\n",
    ")"
   ]
  },
  {
   "cell_type": "markdown",
   "id": "2e84c93e-b749-483b-aad2-8d6bb604fee4",
   "metadata": {},
   "source": [
    "- Create a second QA chain\n",
    "- Augment similarity search using sentences found by the investment query above"
   ]
  },
  {
   "cell_type": "code",
   "execution_count": 63,
   "id": "21f33443-da6b-439f-92ef-9ae902c82cb8",
   "metadata": {},
   "outputs": [],
   "source": [
    "investment_retrieval_query = \"\"\"\n",
    "MATCH (node)-[:PART_OF]->(f:Form),\n",
    "    (f)<-[:FILED]-(com:Company),\n",
    "    (com)<-[owns:OWNS_STOCK_IN]-(mgr:Manager)\n",
    "WITH node, score, mgr, owns, com \n",
    "    ORDER BY owns.shares DESC LIMIT 10\n",
    "WITH collect (\n",
    "    mgr.managerName + \n",
    "    \" owns \" + owns.shares + \n",
    "    \" shares in \" + com.companyName + \n",
    "    \" at a value of $\" + \n",
    "    apoc.number.format(toInteger(owns.value)) + \".\" \n",
    ") AS investment_statements, node, score\n",
    "RETURN apoc.text.join(investment_statements, \"\\n\") + \n",
    "    \"\\n\" + node.text AS text,\n",
    "    score,\n",
    "    { \n",
    "      source: node.source\n",
    "    } as metadata\n",
    "\"\"\""
   ]
  },
  {
   "cell_type": "code",
   "execution_count": 19,
   "id": "5a75b4bd-31d1-4a37-8644-23bee781516a",
   "metadata": {},
   "outputs": [],
   "source": [
    "vector_store_with_investment = Neo4jVector.from_existing_index(\n",
    "    embeddings,\n",
    "    url=NEO4J_URI,\n",
    "    username=NEO4J_USERNAME,\n",
    "    password=NEO4J_PASSWORD,\n",
    "    database=\"neo4j\",\n",
    "    index_name=VECTOR_INDEX_NAME,\n",
    "    text_node_property=VECTOR_SOURCE_PROPERTY,\n",
    "    retrieval_query=investment_retrieval_query,\n",
    ")\n",
    "\n",
    "# Create a retriever from the vector store\n",
    "retriever_with_investments = vector_store_with_investment.as_retriever()\n",
    "\n",
    "# Create a chatbot Question & Answer chain from the retriever\n",
    "investment_chain = RetrievalQAWithSourcesChain.from_chain_type(\n",
    "    ChatOllama(model = 'qwen2.5', temperature=0), \n",
    "    chain_type=\"stuff\", \n",
    "    retriever=retriever_with_investments\n",
    ")"
   ]
  },
  {
   "cell_type": "markdown",
   "id": "21a4f3bb-0a0f-4ffd-8b27-f8eff908e6a3",
   "metadata": {},
   "source": [
    "- Compare the outputs!"
   ]
  },
  {
   "cell_type": "code",
   "execution_count": 20,
   "id": "2e9e1008-be48-48c2-be0f-119a9c181465",
   "metadata": {},
   "outputs": [],
   "source": [
    "question = \"In a single sentence, tell me about Netapp.\""
   ]
  },
  {
   "cell_type": "code",
   "execution_count": 21,
   "id": "54ab7d05-4b19-43c0-aabc-9611c6622e53",
   "metadata": {},
   "outputs": [
    {
     "data": {
      "text/plain": [
       "{'answer': 'NetApp is a global cloud-led, data-centric software company that provides solutions for managing applications and data across hybrid multicloud environments, focusing on operational simplicity, flexibility, cyber resilience, continuous operations, and sustainability.\\n\\n',\n",
       " 'sources': 'https://www.sec.gov/Archives/edgar/data/1002047/000095017023027948/0000950170-23-027948-index.htm'}"
      ]
     },
     "execution_count": 21,
     "metadata": {},
     "output_type": "execute_result"
    }
   ],
   "source": [
    "plain_chain.invoke(\n",
    "    {\"question\": question},\n",
    "    return_only_outputs=True,\n",
    ")"
   ]
  },
  {
   "cell_type": "code",
   "execution_count": 22,
   "id": "e9e2ac39-21bd-47ee-8af2-19568314d22e",
   "metadata": {},
   "outputs": [
    {
     "data": {
      "text/plain": [
       "{'answer': 'NetApp is a global cloud-led, data-centric software company that provides solutions for managing applications and data across hybrid multicloud environments, focusing on operational simplicity, flexibility, cyber resilience, continuous operations, and sustainability.\\n\\n',\n",
       " 'sources': ''}"
      ]
     },
     "execution_count": 22,
     "metadata": {},
     "output_type": "execute_result"
    }
   ],
   "source": [
    "investment_chain.invoke(\n",
    "    {\"question\": question},\n",
    "    return_only_outputs=True,\n",
    ")"
   ]
  },
  {
   "cell_type": "markdown",
   "id": "26184e00-0dd7-4d81-9e05-984eddbf60f6",
   "metadata": {},
   "source": [
    "- The LLM didn't make use of the investor information since the question didn't ask about investors\n",
    "- Change the question and ask again"
   ]
  },
  {
   "cell_type": "code",
   "execution_count": 24,
   "id": "86c1c6c5-d057-459b-9b28-45259b3f14b5",
   "metadata": {},
   "outputs": [],
   "source": [
    "question = \"In a single sentence, tell me about Netapp investors.\""
   ]
  },
  {
   "cell_type": "code",
   "execution_count": 25,
   "id": "eeeb598d-0832-4ac9-90d6-6b65352b9f5d",
   "metadata": {},
   "outputs": [
    {
     "data": {
      "text/plain": [
       "{'answer': 'The provided information does not contain any specific details about Netapp investors.\\n\\n',\n",
       " 'sources': ''}"
      ]
     },
     "execution_count": 25,
     "metadata": {},
     "output_type": "execute_result"
    }
   ],
   "source": [
    "plain_chain.invoke(\n",
    "    {\"question\": question},\n",
    "    return_only_outputs=True,\n",
    ")"
   ]
  },
  {
   "cell_type": "code",
   "execution_count": 26,
   "id": "9ec4f844-75bb-4c9d-8b35-08076221839a",
   "metadata": {},
   "outputs": [
    {
     "data": {
      "text/plain": [
       "{'answer': 'NetApp investors include significant holdings by Vanguard Group Inc., BlackRock Inc., and Primecap Management Co./CA/, with the largest investor being Vanguard Group Inc.\\n\\n',\n",
       " 'sources': ''}"
      ]
     },
     "execution_count": 26,
     "metadata": {},
     "output_type": "execute_result"
    }
   ],
   "source": [
    "investment_chain.invoke(\n",
    "    {\"question\": question},\n",
    "    return_only_outputs=True,\n",
    ")"
   ]
  },
  {
   "cell_type": "code",
   "execution_count": null,
   "id": "73ef317e-ea75-4bad-a6e7-36909412fe8a",
   "metadata": {},
   "outputs": [],
   "source": []
  }
 ],
 "metadata": {
  "kernelspec": {
   "display_name": "Python 3 (ipykernel)",
   "language": "python",
   "name": "python3"
  },
  "language_info": {
   "codemirror_mode": {
    "name": "ipython",
    "version": 3
   },
   "file_extension": ".py",
   "mimetype": "text/x-python",
   "name": "python",
   "nbconvert_exporter": "python",
   "pygments_lexer": "ipython3",
   "version": "3.12.3"
  }
 },
 "nbformat": 4,
 "nbformat_minor": 5
}
