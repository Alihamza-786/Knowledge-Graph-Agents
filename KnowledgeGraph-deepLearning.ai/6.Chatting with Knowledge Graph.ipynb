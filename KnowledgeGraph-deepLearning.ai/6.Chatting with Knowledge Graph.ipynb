{
 "cells": [
  {
   "cell_type": "code",
   "execution_count": 1,
   "id": "d4267ac2-a241-495f-89c8-a7825f2713f9",
   "metadata": {},
   "outputs": [],
   "source": [
    "from dotenv import load_dotenv\n",
    "import os\n",
    "\n",
    "import textwrap\n",
    "\n",
    "#Lanchain\n",
    "from langchain_community.graphs import Neo4jGraph\n",
    "from langchain_community.vectorstores import Neo4jVector\n",
    "from langchain_ollama import OllamaEmbeddings\n",
    "from langchain.chains import RetrievalQAWithSourcesChain\n",
    "from langchain.prompts.prompt import PromptTemplate\n",
    "from langchain.chains import GraphCypherQAChain\n",
    "from langchain_ollama import ChatOllama\n",
    "\n",
    "import warnings\n",
    "warnings.filterwarnings(\"ignore\")"
   ]
  },
  {
   "cell_type": "code",
   "execution_count": 2,
   "id": "bcaf138d-5797-4159-9e44-92c5cde21009",
   "metadata": {},
   "outputs": [],
   "source": [
    "# Load from environment\n",
    "load_dotenv('.env', override=True)\n",
    "NEO4J_URI = os.getenv('NEO4J_URI')\n",
    "NEO4J_USERNAME = os.getenv('NEO4J_USERNAME')\n",
    "NEO4J_PASSWORD = os.getenv('NEO4J_PASSWORD')\n",
    "NEO4J_DATABASE = os.getenv('NEO4J_DATABASE')\n",
    "\n",
    "VECTOR_INDEX_NAME = 'form_10k_chunks'\n",
    "VECTOR_NODE_LABEL = 'Chunk'\n",
    "VECTOR_SOURCE_PROPERTY = 'text'\n",
    "VECTOR_EMBEDDING_PROPERTY = 'textEmbedding'"
   ]
  },
  {
   "cell_type": "code",
   "execution_count": 4,
   "id": "72cad377-d6b6-4796-9921-50b9075578eb",
   "metadata": {},
   "outputs": [],
   "source": [
    "kg = Neo4jGraph(\n",
    "    url=NEO4J_URI, username=NEO4J_USERNAME, password=NEO4J_PASSWORD, database=NEO4J_DATABASE\n",
    ")"
   ]
  },
  {
   "cell_type": "markdown",
   "id": "28645824-e5d3-4157-bfdf-9cb4a5c8ad4a",
   "metadata": {},
   "source": [
    "## Explore the updated SEC documents graph\n",
    "In this lesson, you'll be working with an updated graph that also includes the address information discussed in the video\n",
    "\n",
    "- Some outputs below may differ slightly from the video\n",
    "- Start by checking the schema of the graph"
   ]
  },
  {
   "cell_type": "code",
   "execution_count": 5,
   "id": "8c3fdfb0-4a4d-416f-bfa6-1b7cf0d52975",
   "metadata": {},
   "outputs": [
    {
     "name": "stdout",
     "output_type": "stream",
     "text": [
      "Node properties: Chunk {textEmbedding: LIST, f10kItem:\n",
      "STRING, chunkSeqId: INTEGER, text: STRING, cik: STRING,\n",
      "cusip6: STRING, names: LIST, formId: STRING, source: STRING,\n",
      "chunkId: STRING} Form {cusip6: STRING, names: LIST, formId:\n",
      "STRING, source: STRING} Company {location: POINT, cusip:\n",
      "STRING, names: LIST, companyAddress: STRING, companyName:\n",
      "STRING, cusip6: STRING} Manager {location: POINT,\n",
      "managerName: STRING, managerCik: STRING, managerAddress:\n",
      "STRING} Address {location: POINT, country: STRING, city:\n",
      "STRING, state: STRING} Relationship properties: SECTION\n",
      "{f10kItem: STRING} OWNS_STOCK_IN {shares: INTEGER,\n",
      "reportCalendarOrQuarter: STRING, value: FLOAT} The\n",
      "relationships: (:Chunk)-[:NEXT]->(:Chunk)\n",
      "(:Chunk)-[:PART_OF]->(:Form) (:Form)-[:SECTION]->(:Chunk)\n",
      "(:Company)-[:FILED]->(:Form)\n",
      "(:Company)-[:LOCATED_AT]->(:Address)\n",
      "(:Manager)-[:LOCATED_AT]->(:Address)\n",
      "(:Manager)-[:OWNS_STOCK_IN]->(:Company)\n"
     ]
    }
   ],
   "source": [
    "kg.refresh_schema()\n",
    "print(textwrap.fill(kg.schema, 60))"
   ]
  },
  {
   "cell_type": "code",
   "execution_count": 6,
   "id": "2d933137-c7b2-4a2d-ae71-5e8b7d75e4d2",
   "metadata": {},
   "outputs": [
    {
     "data": {
      "text/plain": [
       "[{'mgr': {'managerCik': '1424381',\n",
       "   'managerAddress': '650 Madison Avenue, 25th Floor, New York, NY, 10022',\n",
       "   'location': POINT(-73.9713457 40.7639879),\n",
       "   'managerName': 'LAKEWOOD CAPITAL MANAGEMENT, LP'},\n",
       "  'addr': {'country': 'United States',\n",
       "   'city': 'New York',\n",
       "   'location': POINT(-73.9821429 40.7584882),\n",
       "   'state': 'New York'}}]"
      ]
     },
     "execution_count": 6,
     "metadata": {},
     "output_type": "execute_result"
    }
   ],
   "source": [
    "kg.query(\"\"\"\n",
    "MATCH (mgr:Manager)-[:LOCATED_AT]->(addr:Address)\n",
    "RETURN mgr, addr\n",
    "LIMIT 1\n",
    "\"\"\")"
   ]
  },
  {
   "cell_type": "code",
   "execution_count": 10,
   "id": "50599977-684f-4d78-90d2-29d0961e60fa",
   "metadata": {},
   "outputs": [
    {
     "data": {
      "text/plain": [
       "[{'node.managerName': 'Royal Bank of Canada', 'score': 4.431276321411133}]"
      ]
     },
     "execution_count": 10,
     "metadata": {},
     "output_type": "execute_result"
    }
   ],
   "source": [
    "# Tell me about a manager names royal bank\n",
    "kg.query(\"\"\"\n",
    " CALL db.index.fulltext.queryNodes(\n",
    "  \"fullTextManagerNames\",\n",
    "  \"royal bank\") YIELD node, score\n",
    "  RETURN node.managerName, score LIMIT 1\n",
    "\"\"\")"
   ]
  },
  {
   "cell_type": "code",
   "execution_count": 11,
   "id": "daa9bba5-8877-489c-9124-36e28bb39aab",
   "metadata": {},
   "outputs": [
    {
     "data": {
      "text/plain": [
       "[{'mgr.managerName': 'Royal Bank of Canada',\n",
       "  'addr': {'country': 'Canada',\n",
       "   'city': 'Toronto',\n",
       "   'location': POINT(-79.3805647 43.6508267),\n",
       "   'state': 'Ontario'}}]"
      ]
     },
     "execution_count": 11,
     "metadata": {},
     "output_type": "execute_result"
    }
   ],
   "source": [
    "# What is the locatio of royal bank?\n",
    "kg.query(\"\"\"\n",
    "CALL db.index.fulltext.queryNodes(\n",
    " \"fullTextManagerNames\",\n",
    " \"royal bank\"\n",
    ") YIELD node, score\n",
    "WITH node as mgr LIMIT 1\n",
    "MATCH (mgr:Manager)-[:LOCATED_AT]->(addr:Address)\n",
    "RETURN mgr.managerName, addr\n",
    "\"\"\")"
   ]
  },
  {
   "cell_type": "code",
   "execution_count": 12,
   "id": "bb07dcde-f0b5-41e1-9608-7d4a8d759353",
   "metadata": {},
   "outputs": [
    {
     "data": {
      "text/plain": [
       "[{'state': 'New York', 'numManagers': 304},\n",
       " {'state': 'California', 'numManagers': 302},\n",
       " {'state': 'Massachusetts', 'numManagers': 146},\n",
       " {'state': 'Pennsylvania', 'numManagers': 138},\n",
       " {'state': 'Texas', 'numManagers': 125},\n",
       " {'state': 'Illinois', 'numManagers': 121},\n",
       " {'state': 'Florida', 'numManagers': 115},\n",
       " {'state': 'Connecticut', 'numManagers': 77},\n",
       " {'state': 'Ohio', 'numManagers': 76},\n",
       " {'state': 'New Jersey', 'numManagers': 69}]"
      ]
     },
     "execution_count": 12,
     "metadata": {},
     "output_type": "execute_result"
    }
   ],
   "source": [
    "# Determine which state has the most investment firms\n",
    "kg.query(\"\"\"\n",
    "  MATCH p=(:Manager)-[:LOCATED_AT]->(address:Address)\n",
    "  RETURN address.state as state, count(address.state) as numManagers\n",
    "    ORDER BY numManagers DESC\n",
    "    LIMIT 10\n",
    "\"\"\")"
   ]
  },
  {
   "cell_type": "code",
   "execution_count": 13,
   "id": "55f22d62-0793-40fe-baf9-b2704e45fe5e",
   "metadata": {},
   "outputs": [
    {
     "data": {
      "text/plain": [
       "[{'city': 'San Francisco', 'numManagers': 48},\n",
       " {'city': 'Los Angeles', 'numManagers': 44},\n",
       " {'city': 'San Diego', 'numManagers': 17},\n",
       " {'city': 'Pasadena', 'numManagers': 13},\n",
       " {'city': 'Menlo Park', 'numManagers': 9},\n",
       " {'city': 'Newport Beach', 'numManagers': 9},\n",
       " {'city': 'Irvine', 'numManagers': 9},\n",
       " {'city': 'Walnut Creek', 'numManagers': 8},\n",
       " {'city': 'Palo Alto', 'numManagers': 6},\n",
       " {'city': 'Lafayette', 'numManagers': 6}]"
      ]
     },
     "execution_count": 13,
     "metadata": {},
     "output_type": "execute_result"
    }
   ],
   "source": [
    "# What are the cities in California with the most investment firms?\n",
    "kg.query(\"\"\"\n",
    "  MATCH p=(:Manager)-[:LOCATED_AT]->(address:Address)\n",
    "         WHERE address.state = 'California'\n",
    "  RETURN address.city as city, count(address.city) as numManagers\n",
    "    ORDER BY numManagers DESC\n",
    "    LIMIT 10\n",
    "\"\"\")"
   ]
  },
  {
   "cell_type": "code",
   "execution_count": 15,
   "id": "fc0cbac7-c763-4c03-b3ba-57a7fbbc2b1c",
   "metadata": {},
   "outputs": [
    {
     "data": {
      "text/plain": [
       "[{'city': 'Santa Clara', 'numCompanies': 3},\n",
       " {'city': 'San Jose', 'numCompanies': 2},\n",
       " {'city': 'Sunnyvale', 'numCompanies': 1},\n",
       " {'city': 'Cupertino', 'numCompanies': 1}]"
      ]
     },
     "execution_count": 15,
     "metadata": {},
     "output_type": "execute_result"
    }
   ],
   "source": [
    "# Which city in California has the most companies listed?\n",
    "kg.query(\"\"\"\n",
    "  MATCH p=(:Company)-[:LOCATED_AT]->(address:Address)\n",
    "         WHERE address.state = 'California'\n",
    "  RETURN address.city as city, count(address.city) as numCompanies\n",
    "    ORDER BY numCompanies DESC\n",
    "\"\"\")"
   ]
  },
  {
   "cell_type": "code",
   "execution_count": 16,
   "id": "f60cedde-050a-4ae6-9eaa-667b8708376b",
   "metadata": {},
   "outputs": [
    {
     "data": {
      "text/plain": [
       "[{'mgr.managerName': 'Dodge & Cox', 'totalInvestmentValue': 3889236092000.0},\n",
       " {'mgr.managerName': 'WELLS FARGO & COMPANY/MN',\n",
       "  'totalInvestmentValue': 2177580039000.0},\n",
       " {'mgr.managerName': 'CHARLES SCHWAB INVESTMENT MANAGEMENT INC',\n",
       "  'totalInvestmentValue': 1944847519000.0},\n",
       " {'mgr.managerName': 'Parallax Volatility Advisers, L.P.',\n",
       "  'totalInvestmentValue': 694023723000.0},\n",
       " {'mgr.managerName': 'PARNASSUS INVESTMENTS, LLC',\n",
       "  'totalInvestmentValue': 211068925000.0},\n",
       " {'mgr.managerName': 'Spyglass Capital Management LLC',\n",
       "  'totalInvestmentValue': 98135259000.0},\n",
       " {'mgr.managerName': 'Valiant Capital Management, L.P.',\n",
       "  'totalInvestmentValue': 52124040000.0},\n",
       " {'mgr.managerName': 'Ensemble Capital Management, LLC',\n",
       "  'totalInvestmentValue': 42355370000.0},\n",
       " {'mgr.managerName': 'Woodline Partners LP',\n",
       "  'totalInvestmentValue': 41497384000.0},\n",
       " {'mgr.managerName': 'Alta Park Capital, LP',\n",
       "  'totalInvestmentValue': 38959909000.0}]"
      ]
     },
     "execution_count": 16,
     "metadata": {},
     "output_type": "execute_result"
    }
   ],
   "source": [
    "# What are top investment firms in San Francisco?\n",
    "kg.query(\"\"\"\n",
    "  MATCH p=(mgr:Manager)-[:LOCATED_AT]->(address:Address),\n",
    "         (mgr)-[owns:OWNS_STOCK_IN]->(:Company)\n",
    "         WHERE address.city = \"San Francisco\"\n",
    "  RETURN mgr.managerName, sum(owns.value) as totalInvestmentValue\n",
    "    ORDER BY totalInvestmentValue DESC\n",
    "    LIMIT 10\n",
    "\"\"\")"
   ]
  },
  {
   "cell_type": "code",
   "execution_count": 17,
   "id": "78e90a04-f353-452b-a759-976fb33719ff",
   "metadata": {},
   "outputs": [
    {
     "data": {
      "text/plain": [
       "[{'com.companyName': 'PALO ALTO NETWORKS INC'},\n",
       " {'com.companyName': 'SEAGATE TECHNOLOGY'},\n",
       " {'com.companyName': 'ATLASSIAN CORP PLC'}]"
      ]
     },
     "execution_count": 17,
     "metadata": {},
     "output_type": "execute_result"
    }
   ],
   "source": [
    "# What companies are located in Santa Clara?\n",
    "kg.query(\"\"\"\n",
    "  MATCH (com:Company)-[:LOCATED_AT]->(address:Address)\n",
    "         WHERE address.city = \"Santa Clara\"\n",
    "  RETURN com.companyName\n",
    "\"\"\")"
   ]
  },
  {
   "cell_type": "code",
   "execution_count": null,
   "id": "f67bc0c3-45e0-4b0a-b3f7-16b6c2ecaad8",
   "metadata": {},
   "outputs": [],
   "source": [
    "# What companies are near Santa Clara?\n",
    "kg.query(\"\"\"\n",
    "  MATCH (sc:Address)\n",
    "    WHERE sc.city = \"Santa Clara\"\n",
    "  MATCH (com:Company)-[:LOCATED_AT]->(comAddr:Address)\n",
    "    WHERE point.distance(sc.location, comAddr.location) < 10000\n",
    "  RETURN com.companyName, com.companyAddress\n",
    "\"\"\")"
   ]
  },
  {
   "cell_type": "code",
   "execution_count": 18,
   "id": "f42f4460-9181-4108-a9a2-78bb860e20be",
   "metadata": {},
   "outputs": [
    {
     "data": {
      "text/plain": [
       "[{'mgr.managerName': 'Mine & Arao Wealth Creation & Management, LLC.',\n",
       "  'mgr.managerAddress': '901 CAMPISI WAY, SUITE 140, CAMPBELL, CA, 95008'}]"
      ]
     },
     "execution_count": 18,
     "metadata": {},
     "output_type": "execute_result"
    }
   ],
   "source": [
    "# What investment firms are near Santa Clara?\n",
    "# Try updating the distance in the query to expand the search radius\n",
    "kg.query(\"\"\"\n",
    "  MATCH (address:Address)\n",
    "    WHERE address.city = \"Santa Clara\"\n",
    "  MATCH (mgr:Manager)-[:LOCATED_AT]->(managerAddress:Address)\n",
    "    WHERE point.distance(address.location, \n",
    "        managerAddress.location) < 10000\n",
    "  RETURN mgr.managerName, mgr.managerAddress\n",
    "\"\"\")"
   ]
  },
  {
   "cell_type": "code",
   "execution_count": 19,
   "id": "4d1ccef6-bafc-4d53-a7d0-3d2901090b50",
   "metadata": {},
   "outputs": [
    {
     "data": {
      "text/plain": [
       "[{'mgr': {'managerCik': '1802994',\n",
       "   'managerAddress': '901 CAMPISI WAY, SUITE 140, CAMPBELL, CA, 95008',\n",
       "   'location': POINT(-121.9342655 37.2909459),\n",
       "   'managerName': 'Mine & Arao Wealth Creation & Management, LLC.'},\n",
       "  'distanceKm': 6}]"
      ]
     },
     "execution_count": 19,
     "metadata": {},
     "output_type": "execute_result"
    }
   ],
   "source": [
    "# Which investment firms are near Palo Alto Networks?\n",
    "kg.query(\"\"\"\n",
    "  CALL db.index.fulltext.queryNodes(\n",
    "         \"fullTextCompanyNames\", \n",
    "         \"Palo Aalto Networks\"\n",
    "         ) YIELD node, score\n",
    "  WITH node as com\n",
    "  MATCH (com)-[:LOCATED_AT]->(comAddress:Address),\n",
    "    (mgr:Manager)-[:LOCATED_AT]->(mgrAddress:Address)\n",
    "    WHERE point.distance(comAddress.location, \n",
    "        mgrAddress.location) < 10000\n",
    "  RETURN mgr, \n",
    "    toInteger(point.distance(comAddress.location, \n",
    "        mgrAddress.location) / 1000) as distanceKm\n",
    "    ORDER BY distanceKm ASC\n",
    "    LIMIT 10\n",
    "\"\"\")"
   ]
  },
  {
   "cell_type": "markdown",
   "id": "137cf5e1-fc26-461f-abdf-0f5c4cded74d",
   "metadata": {},
   "source": [
    "# Writing Cypher with an LLMvvvv"
   ]
  },
  {
   "cell_type": "markdown",
   "id": "99085a95-1657-486e-aec9-24f5aab498d7",
   "metadata": {},
   "source": [
    "- In this section, you'll use few-shot learning to teach an LLM to write Cypher\n",
    "- You'll use the Ollama model\n",
    "- You'll also use a new Neo4j integration within LangChain called GraphCypherQAChain"
   ]
  },
  {
   "cell_type": "code",
   "execution_count": 21,
   "id": "3f7be39a-e327-412b-b9d2-3f415c9716c9",
   "metadata": {},
   "outputs": [],
   "source": [
    "CYPHER_GENERATION_TEMPLATE = \"\"\"Task:Generate Cypher statement to \n",
    "query a graph database.\n",
    "Instructions:\n",
    "Use only the provided relationship types and properties in the \n",
    "schema. Do not use any other relationship types or properties that \n",
    "are not provided.\n",
    "Schema:\n",
    "{schema}\n",
    "Note: Do not include any explanations or apologies in your responses.\n",
    "Do not respond to any questions that might ask anything else than \n",
    "for you to construct a Cypher statement.\n",
    "Do not include any text except the generated Cypher statement.\n",
    "Examples: Here are a few examples of generated Cypher \n",
    "statements for particular questions:\n",
    "\n",
    "# What investment firms are in San Francisco?\n",
    "MATCH (mgr:Manager)-[:LOCATED_AT]->(mgrAddress:Address)\n",
    "    WHERE mgrAddress.city = 'San Francisco'\n",
    "RETURN mgr.managerName\n",
    "The question is:\n",
    "{question}\"\"\""
   ]
  },
  {
   "cell_type": "code",
   "execution_count": 22,
   "id": "3b658216-29c7-43e5-862d-64d4873aa67c",
   "metadata": {},
   "outputs": [],
   "source": [
    "CYPHER_GENERATION_PROMPT = PromptTemplate(\n",
    "    input_variables=[\"schema\", \"question\"],\n",
    "    template=CYPHER_GENERATION_TEMPLATE\n",
    ")"
   ]
  },
  {
   "cell_type": "code",
   "execution_count": 24,
   "id": "299eece4-6fa7-493a-81b9-b2bfbf8a494d",
   "metadata": {
    "scrolled": true
   },
   "outputs": [],
   "source": [
    "cypherChain = GraphCypherQAChain.from_llm(\n",
    "    ChatOllama(model='qwen2.5', temperature=0),\n",
    "    graph = kg,\n",
    "    verbose=True,\n",
    "    cypher_prompt = CYPHER_GENERATION_PROMPT,\n",
    "    allow_dangerous_requests=True\n",
    ")"
   ]
  },
  {
   "cell_type": "code",
   "execution_count": 25,
   "id": "abbaffb9-e457-4207-bbf5-22f54cea31c5",
   "metadata": {},
   "outputs": [],
   "source": [
    "def prettyCypherChain(question: str) -> str:\n",
    "    response = cypherChain.run(question)\n",
    "    print(textwrap.fill(response, 60))"
   ]
  },
  {
   "cell_type": "code",
   "execution_count": 26,
   "id": "789dc063-1228-4795-8562-23be510a3657",
   "metadata": {},
   "outputs": [
    {
     "name": "stdout",
     "output_type": "stream",
     "text": [
      "\n",
      "\n",
      "\u001b[1m> Entering new GraphCypherQAChain chain...\u001b[0m\n",
      "Generated Cypher:\n",
      "\u001b[32;1m\u001b[1;3mMATCH (mgr:Manager)-[:LOCATED_AT]->(mgrAddress:Address)\n",
      "    WHERE mgrAddress.city = 'San Francisco'\n",
      "RETURN mgr.managerName\u001b[0m\n",
      "Full Context:\n",
      "\u001b[32;1m\u001b[1;3m[{'mgr.managerName': 'PARNASSUS INVESTMENTS, LLC'}, {'mgr.managerName': 'SKBA CAPITAL MANAGEMENT LLC'}, {'mgr.managerName': 'ROSENBLUM SILVERMAN SUTTON S F INC /CA'}, {'mgr.managerName': 'CHARLES SCHWAB INVESTMENT MANAGEMENT INC'}, {'mgr.managerName': 'WELLS FARGO & COMPANY/MN'}, {'mgr.managerName': 'Dodge & Cox'}, {'mgr.managerName': 'Strait & Sound Wealth Management LLC'}, {'mgr.managerName': 'Sonoma Private Wealth LLC'}, {'mgr.managerName': 'Fund Management at Engine No. 1 LLC'}, {'mgr.managerName': 'SELDON CAPITAL LP'}]\u001b[0m\n",
      "\n",
      "\u001b[1m> Finished chain.\u001b[0m\n",
      "The provided information does not specify the locations of\n",
      "these investment firms, so I cannot determine which ones are\n",
      "in San Francisco based solely on this data.\n"
     ]
    }
   ],
   "source": [
    "prettyCypherChain(\"What investment firms are in San Francisco?\")"
   ]
  },
  {
   "cell_type": "code",
   "execution_count": 29,
   "id": "256404c2-fdc5-4713-b8f8-864dd5830c00",
   "metadata": {},
   "outputs": [
    {
     "name": "stdout",
     "output_type": "stream",
     "text": [
      "\n",
      "\n",
      "\u001b[1m> Entering new GraphCypherQAChain chain...\u001b[0m\n",
      "Generated Cypher:\n",
      "\u001b[32;1m\u001b[1;3mMATCH (mgr:Manager)-[:LOCATED_AT]->(mgrAddress:Address)\n",
      "    WHERE mgrAddress.city = 'Menlo Park'\n",
      "RETURN mgr.managerName\u001b[0m\n",
      "Full Context:\n",
      "\u001b[32;1m\u001b[1;3m[{'mgr.managerName': 'Bordeaux Wealth Advisors LLC'}, {'mgr.managerName': 'Opes Wealth Management LLC'}, {'mgr.managerName': 'Solstein Capital, LLC'}, {'mgr.managerName': 'Stamos Capital Partners, L.P.'}, {'mgr.managerName': 'TIEMANN INVESTMENT ADVISORS, LLC'}, {'mgr.managerName': 'SCGE MANAGEMENT, L.P.'}, {'mgr.managerName': 'Nelson Capital Management, LLC'}, {'mgr.managerName': 'Jasper Ridge Partners, L.P.'}, {'mgr.managerName': 'CROSSLINK CAPITAL INC'}]\u001b[0m\n",
      "\n",
      "\u001b[1m> Finished chain.\u001b[0m\n",
      "Bordeaux Wealth Advisors LLC, Opes Wealth Management LLC,\n",
      "Solstein Capital, LLC, Stamos Capital Partners, L.P.,\n",
      "TIEMANN INVESTMENT ADVISORS, LLC, SCGE MANAGEMENT, L.P.,\n",
      "Nelson Capital Management, LLC, Jasper Ridge Partners, L.P.,\n",
      "and CROSSLINK CAPITAL INC are listed as investment firms,\n",
      "though their locations are not specified in the provided\n",
      "information.\n"
     ]
    }
   ],
   "source": [
    "prettyCypherChain(\"What investment firms are in Menlo Park?\")"
   ]
  },
  {
   "cell_type": "code",
   "execution_count": 30,
   "id": "86addb8b-95a0-4cd8-bed4-fb88c29e32e5",
   "metadata": {},
   "outputs": [
    {
     "name": "stdout",
     "output_type": "stream",
     "text": [
      "\n",
      "\n",
      "\u001b[1m> Entering new GraphCypherQAChain chain...\u001b[0m\n",
      "Generated Cypher:\n",
      "\u001b[32;1m\u001b[1;3mMATCH (comp:Company)-[:LOCATED_AT]->(compAddr:Address)\n",
      "WHERE compAddr.city = 'Santa Clara'\n",
      "RETURN comp.companyName\u001b[0m\n",
      "Full Context:\n",
      "\u001b[32;1m\u001b[1;3m[{'comp.companyName': 'PALO ALTO NETWORKS INC'}, {'comp.companyName': 'SEAGATE TECHNOLOGY'}, {'comp.companyName': 'ATLASSIAN CORP PLC'}]\u001b[0m\n",
      "\n",
      "\u001b[1m> Finished chain.\u001b[0m\n",
      "PALO ALTO NETWORKS INC, SEAGATE TECHNOLOGY, and ATLASSIAN\n",
      "CORP PLC are among the companies located in Santa Clara.\n"
     ]
    }
   ],
   "source": [
    "prettyCypherChain(\"What companies are in Santa Clara?\")"
   ]
  },
  {
   "cell_type": "code",
   "execution_count": 31,
   "id": "a2c69252-97c4-45ef-aede-7effc41f6f16",
   "metadata": {},
   "outputs": [
    {
     "name": "stdout",
     "output_type": "stream",
     "text": [
      "\n",
      "\n",
      "\u001b[1m> Entering new GraphCypherQAChain chain...\u001b[0m\n",
      "Generated Cypher:\n",
      "\u001b[32;1m\u001b[1;3mMATCH (mgr:Manager)-[:LOCATED_AT]->(mgrAddress:Address)\n",
      "    WHERE mgrAddress.city = 'Santa Clara'\n",
      "RETURN mgr.managerName\u001b[0m\n",
      "Full Context:\n",
      "\u001b[32;1m\u001b[1;3m[]\u001b[0m\n",
      "\n",
      "\u001b[1m> Finished chain.\u001b[0m\n",
      "I don't have specific information about investment firms\n",
      "near Santa Clara. Could you provide more details or context?\n"
     ]
    }
   ],
   "source": [
    "prettyCypherChain(\"What investment firms are near Santa Clara?\")"
   ]
  },
  {
   "cell_type": "markdown",
   "id": "121ce9d6-d5d0-4b3e-a443-674ac01d06bc",
   "metadata": {},
   "source": [
    "# Expand the prompt to teach the LLM new Cypher patterns"
   ]
  },
  {
   "cell_type": "code",
   "execution_count": 32,
   "id": "f3ba0ceb-ce6d-41b5-b928-324add950aec",
   "metadata": {},
   "outputs": [],
   "source": [
    "CYPHER_GENERATION_TEMPLATE = \"\"\"Task:Generate Cypher statement to query a graph database.\n",
    "Instructions:\n",
    "Use only the provided relationship types and properties in the schema.\n",
    "Do not use any other relationship types or properties that are not provided.\n",
    "Schema:\n",
    "{schema}\n",
    "Note: Do not include any explanations or apologies in your responses.\n",
    "Do not respond to any questions that might ask anything else than for you to construct a Cypher statement.\n",
    "Do not include any text except the generated Cypher statement.\n",
    "Examples: Here are a few examples of generated Cypher statements for particular questions:\n",
    "\n",
    "# What investment firms are in San Francisco?\n",
    "MATCH (mgr:Manager)-[:LOCATED_AT]->(mgrAddress:Address)\n",
    "    WHERE mgrAddress.city = 'San Francisco'\n",
    "RETURN mgr.managerName\n",
    "\n",
    "# What investment firms are near Santa Clara?\n",
    "  MATCH (address:Address)\n",
    "    WHERE address.city = \"Santa Clara\"\n",
    "  MATCH (mgr:Manager)-[:LOCATED_AT]->(managerAddress:Address)\n",
    "    WHERE point.distance(address.location, \n",
    "        managerAddress.location) < 10000\n",
    "  RETURN mgr.managerName, mgr.managerAddress\n",
    "\n",
    "The question is:\n",
    "{question}\"\"\""
   ]
  },
  {
   "cell_type": "code",
   "execution_count": 33,
   "id": "e29be401-d5b1-49c2-b6ba-56ab6841de4c",
   "metadata": {},
   "outputs": [],
   "source": [
    "CYPHER_GENERATION_PROMPT = PromptTemplate(\n",
    "    input_variables=[\"schema\", \"question\"], \n",
    "    template=CYPHER_GENERATION_TEMPLATE\n",
    ")\n",
    "\n",
    "cypherChain = GraphCypherQAChain.from_llm(\n",
    "    ChatOllama(model='qwen2.5', temperature=0),\n",
    "    graph=kg,\n",
    "    verbose=True,\n",
    "    cypher_prompt=CYPHER_GENERATION_PROMPT,\n",
    "    allow_dangerous_requests=True\n",
    ")"
   ]
  },
  {
   "cell_type": "code",
   "execution_count": 34,
   "id": "fd990004-5159-4629-97c5-d83cde9b4b5e",
   "metadata": {},
   "outputs": [
    {
     "name": "stdout",
     "output_type": "stream",
     "text": [
      "\n",
      "\n",
      "\u001b[1m> Entering new GraphCypherQAChain chain...\u001b[0m\n",
      "Generated Cypher:\n",
      "\u001b[32;1m\u001b[1;3mMATCH (address:Address {city: \"Santa Clara\"})\n",
      "MATCH (mgr:Manager)-[:LOCATED_AT]->(managerAddress:Address)\n",
      "WHERE point.distance(address.location, managerAddress.location) < 10000\n",
      "RETURN mgr.managerName, mgr.managerAddress\u001b[0m\n",
      "Full Context:\n",
      "\u001b[32;1m\u001b[1;3m[{'mgr.managerName': 'Mine & Arao Wealth Creation & Management, LLC.', 'mgr.managerAddress': '901 CAMPISI WAY, SUITE 140, CAMPBELL, CA, 95008'}]\u001b[0m\n",
      "\n",
      "\u001b[1m> Finished chain.\u001b[0m\n",
      "Mine & Arao Wealth Creation & Management, LLC. is located\n",
      "near Santa Clara, as their address is 901 CAMPISI WAY, SUITE\n",
      "140, CAMPBELL, CA, 95008.\n"
     ]
    }
   ],
   "source": [
    "prettyCypherChain(\"What investment firms are near Santa Clara?\")"
   ]
  },
  {
   "cell_type": "markdown",
   "id": "090d583e-098a-4ddc-ad5b-307e91579bdc",
   "metadata": {},
   "source": [
    "# Expand the query to retrieve information from the Form 10K chunks"
   ]
  },
  {
   "cell_type": "code",
   "execution_count": 35,
   "id": "9b833e09-5e72-4985-a267-bbd3389dd8fc",
   "metadata": {},
   "outputs": [],
   "source": [
    "CYPHER_GENERATION_TEMPLATE = \"\"\"Task:Generate Cypher statement to query a graph database.\n",
    "Instructions:\n",
    "Use only the provided relationship types and properties in the schema.\n",
    "Do not use any other relationship types or properties that are not provided.\n",
    "Schema:\n",
    "{schema}\n",
    "Note: Do not include any explanations or apologies in your responses.\n",
    "Do not respond to any questions that might ask anything else than for you to construct a Cypher statement.\n",
    "Do not include any text except the generated Cypher statement.\n",
    "Examples: Here are a few examples of generated Cypher statements for particular questions:\n",
    "\n",
    "# What investment firms are in San Francisco?\n",
    "MATCH (mgr:Manager)-[:LOCATED_AT]->(mgrAddress:Address)\n",
    "    WHERE mgrAddress.city = 'San Francisco'\n",
    "RETURN mgr.managerName\n",
    "\n",
    "# What investment firms are near Santa Clara?\n",
    "  MATCH (address:Address)\n",
    "    WHERE address.city = \"Santa Clara\"\n",
    "  MATCH (mgr:Manager)-[:LOCATED_AT]->(managerAddress:Address)\n",
    "    WHERE point.distance(address.location, \n",
    "        managerAddress.location) < 10000\n",
    "  RETURN mgr.managerName, mgr.managerAddress\n",
    "\n",
    "# What does Palo Alto Networks do?\n",
    "  CALL db.index.fulltext.queryNodes(\n",
    "         \"fullTextCompanyNames\", \n",
    "         \"Palo Alto Networks\"\n",
    "         ) YIELD node, score\n",
    "  WITH node as com\n",
    "  MATCH (com)-[:FILED]->(f:Form),\n",
    "    (f)-[s:SECTION]->(c:Chunk)\n",
    "  WHERE s.f10kItem = \"item1\"\n",
    "RETURN c.text\n",
    "\n",
    "The question is:\n",
    "{question}\"\"\""
   ]
  },
  {
   "cell_type": "code",
   "execution_count": 38,
   "id": "747ff271-8611-41f5-b39d-fd5266cfde20",
   "metadata": {},
   "outputs": [],
   "source": [
    "CYPHER_GENERATION_PROMPT = PromptTemplate(\n",
    "    input_variables=[\"schema\", \"question\"], \n",
    "    template=CYPHER_GENERATION_TEMPLATE\n",
    ")\n",
    "\n",
    "cypherChain = GraphCypherQAChain.from_llm(\n",
    "    ChatOllama(model='qwen2.5', temperature=0),\n",
    "    graph=kg,\n",
    "    verbose=True,\n",
    "    cypher_prompt=CYPHER_GENERATION_PROMPT,\n",
    "    allow_dangerous_requests = True\n",
    ")\n"
   ]
  },
  {
   "cell_type": "code",
   "execution_count": 39,
   "id": "23ef16d3-86d9-4270-8a9d-fd4e2c8d55b8",
   "metadata": {},
   "outputs": [
    {
     "name": "stdout",
     "output_type": "stream",
     "text": [
      "\n",
      "\n",
      "\u001b[1m> Entering new GraphCypherQAChain chain...\u001b[0m\n",
      "Generated Cypher:\n",
      "\u001b[32;1m\u001b[1;3mCALL db.index.fulltext.queryNodes(\n",
      "         \"fullTextCompanyNames\", \n",
      "         \"Palo Alto Networks\"\n",
      "         ) YIELD node, score\n",
      "WITH node as com\n",
      "MATCH (com)-[:FILED]->(f:Form),\n",
      "(f)-[s:SECTION]->(c:Chunk)\n",
      "WHERE s.f10kItem = \"item1\"\n",
      "RETURN c.text\u001b[0m\n",
      "Full Context:\n",
      "\u001b[32;1m\u001b[1;3m[{'c.text': '>Item 1. Business\\nGeneral\\nPalo Alto Networks, Inc. is a global cybersecurity provider with a vision of a world where each day is safer and more secure than the one before. We were incorporated in 2005 and are headquartered in Santa Clara, California.\\nWe empower enterprises, organizations, service providers, and government entities to protect themselves against today’s most sophisticated cyber threats. Our cybersecurity platforms and services help secure enterprise users, networks, clouds, and endpoints by delivering comprehensive cybersecurity backed by industry-leading artificial intelligence and automation. We are a leading provider of zero trust solutions, starting with next-generation zero trust network access to secure today’s remote hybrid workforces and extending to securing all users, applications, and infrastructure with zero trust principles. Our security solutions are designed to reduce customers’ total cost of ownership by improving operational efficiency and eliminating the need for siloed point products. Our company focuses on delivering value in four fundamental areas:\\nNetwork Security:\\n•\\nOur network security platform, designed to deliver complete zero trust solutions to our customers, includes our hardware and software ML-Powered Next-Generation Firewalls, as well as a cloud-delivered Secure Access Service Edge (“SASE”). Prisma\\n®\\n Access, our Security Services Edge (“SSE”) solution, when combined with Prisma SD-WAN, provides a comprehensive single-vendor SASE offering that is used to secure remote workforces and enable the cloud-delivered branch. We have been recognized as a leader in network firewalls, SSE, and SD-WAN. Our network security platform also includes our cloud-delivered security services, such as Advanced Threat Prevention, Advanced WildFire\\n®\\n, Advanced URL Filtering, DNS Security, IoT/OT Security, GlobalProtect\\n®'}]\u001b[0m\n",
      "\n",
      "\u001b[1m> Finished chain.\u001b[0m\n",
      "Palo Alto Networks provides global cybersecurity solutions\n",
      "with a vision of making each day safer and more secure. They\n",
      "empower enterprises, organizations, service providers, and\n",
      "government entities to protect against sophisticated cyber\n",
      "threats through comprehensive cybersecurity backed by\n",
      "advanced artificial intelligence and automation. The company\n",
      "focuses on delivering value in four fundamental areas:\n",
      "Network Security, which includes hardware and software ML-\n",
      "Powered Next-Generation Firewalls, cloud-delivered Secure\n",
      "Access Service Edge (SASE) solutions like Prisma Access and\n",
      "Security Services Edge (SSE), as well as other security\n",
      "services such as Advanced Threat Prevention and\n",
      "GlobalProtect.\n"
     ]
    }
   ],
   "source": [
    "prettyCypherChain(\"What does Palo Alto Networks do?\")"
   ]
  },
  {
   "cell_type": "code",
   "execution_count": 40,
   "id": "6d49cf1e-bae5-4e3a-877d-14386ff472c1",
   "metadata": {},
   "outputs": [
    {
     "name": "stdout",
     "output_type": "stream",
     "text": [
      "Node properties: Chunk {textEmbedding: LIST, f10kItem:\n",
      "STRING, chunkSeqId: INTEGER, text: STRING, cik: STRING,\n",
      "cusip6: STRING, names: LIST, formId: STRING, source: STRING,\n",
      "chunkId: STRING} Form {cusip6: STRING, names: LIST, formId:\n",
      "STRING, source: STRING} Company {location: POINT, cusip:\n",
      "STRING, names: LIST, companyAddress: STRING, companyName:\n",
      "STRING, cusip6: STRING} Manager {location: POINT,\n",
      "managerName: STRING, managerCik: STRING, managerAddress:\n",
      "STRING} Address {location: POINT, country: STRING, city:\n",
      "STRING, state: STRING} Relationship properties: SECTION\n",
      "{f10kItem: STRING} OWNS_STOCK_IN {shares: INTEGER,\n",
      "reportCalendarOrQuarter: STRING, value: FLOAT} The\n",
      "relationships: (:Chunk)-[:NEXT]->(:Chunk)\n",
      "(:Chunk)-[:PART_OF]->(:Form) (:Form)-[:SECTION]->(:Chunk)\n",
      "(:Company)-[:FILED]->(:Form)\n",
      "(:Company)-[:LOCATED_AT]->(:Address)\n",
      "(:Manager)-[:LOCATED_AT]->(:Address)\n",
      "(:Manager)-[:OWNS_STOCK_IN]->(:Company)\n"
     ]
    }
   ],
   "source": [
    "# Check the graph schema\n",
    "kg.refresh_schema()\n",
    "print(textwrap.fill(kg.schema, 60))"
   ]
  },
  {
   "cell_type": "code",
   "execution_count": 41,
   "id": "32583b5e-ead9-4798-b6ad-3a0059fb70f2",
   "metadata": {},
   "outputs": [],
   "source": [
    "CYPHER_GENERATION_TEMPLATE = \"\"\"Task:Generate Cypher statement to query a graph database.\n",
    "Instructions:\n",
    "Use only the provided relationship types and properties in the schema.\n",
    "Do not use any other relationship types or properties that are not provided.\n",
    "Schema:\n",
    "{schema}\n",
    "Note: Do not include any explanations or apologies in your responses.\n",
    "Do not respond to any questions that might ask anything else than for you to construct a Cypher statement.\n",
    "Do not include any text except the generated Cypher statement.\n",
    "Examples: Here are a few examples of generated Cypher statements for particular questions:\n",
    "\n",
    "# What investment firms are in San Francisco?\n",
    "MATCH (mgr:Manager)-[:LOCATED_AT]->(mgrAddress:Address)\n",
    "    WHERE mgrAddress.city = 'San Francisco'\n",
    "RETURN mgr.managerName\n",
    "\n",
    "# What investment firms are near Santa Clara?\n",
    "  MATCH (address:Address)\n",
    "    WHERE address.city = \"Santa Clara\"\n",
    "  MATCH (mgr:Manager)-[:LOCATED_AT]->(managerAddress:Address)\n",
    "    WHERE point.distance(address.location, \n",
    "        managerAddress.location) < 10000\n",
    "  RETURN mgr.managerName, mgr.managerAddress\n",
    "\n",
    "# What does Palo Alto Networks do?\n",
    "  CALL db.index.fulltext.queryNodes(\n",
    "         \"fullTextCompanyNames\", \n",
    "         \"Palo Alto Networks\"\n",
    "         ) YIELD node, score\n",
    "  WITH node as com\n",
    "  MATCH (com)-[:FILED]->(f:Form),\n",
    "    (f)-[s:SECTION]->(c:Chunk)\n",
    "  WHERE s.f10kItem = \"item1\"\n",
    "RETURN c.text\n",
    "\n",
    "The question is:\n",
    "{question}\"\"\""
   ]
  },
  {
   "cell_type": "code",
   "execution_count": 42,
   "id": "a1be8e4e-c882-4a86-ae31-e6f8847f9ec7",
   "metadata": {},
   "outputs": [],
   "source": [
    "# Update the prompt and reset the QA chain\n",
    "CYPHER_GENERATION_PROMPT = PromptTemplate(\n",
    "    input_variables=[\"schema\", \"question\"], \n",
    "    template=CYPHER_GENERATION_TEMPLATE\n",
    ")\n",
    "\n",
    "cypherChain = GraphCypherQAChain.from_llm(\n",
    "    ChatOllama(model='qwen2.5', temperature=0),\n",
    "    graph=kg,\n",
    "    verbose=True,\n",
    "    cypher_prompt=CYPHER_GENERATION_PROMPT,\n",
    "    allow_dangerous_requests = True\n",
    ")"
   ]
  },
  {
   "cell_type": "code",
   "execution_count": 44,
   "id": "85b08d43-117a-4a9d-b24c-9035dc701240",
   "metadata": {},
   "outputs": [
    {
     "name": "stdout",
     "output_type": "stream",
     "text": [
      "\n",
      "\n",
      "\u001b[1m> Entering new GraphCypherQAChain chain...\u001b[0m\n",
      "Generated Cypher:\n",
      "\u001b[32;1m\u001b[1;3mMATCH (mgr:Manager)\n",
      "RETURN DISTINCT mgr.managerName LIMIT 3\u001b[0m\n",
      "Full Context:\n",
      "\u001b[32;1m\u001b[1;3m[{'mgr.managerName': 'KINGDON CAPITAL MANAGEMENT, L.L.C.'}, {'mgr.managerName': 'Royal Bank of Canada'}, {'mgr.managerName': 'BROOKFIELD Corp /ON/'}]\u001b[0m\n",
      "\n",
      "\u001b[1m> Finished chain.\u001b[0m\n",
      "KINGDON CAPITAL MANAGEMENT, L.L.C., Royal Bank of Canada,\n",
      "BROOKFIELD Corp /ON/\n"
     ]
    }
   ],
   "source": [
    "prettyCypherChain(\"list 3 managers name\")"
   ]
  },
  {
   "cell_type": "code",
   "execution_count": null,
   "id": "8a24c462-bcb9-4d37-9d41-8e00460102a6",
   "metadata": {},
   "outputs": [],
   "source": []
  }
 ],
 "metadata": {
  "kernelspec": {
   "display_name": "Python 3 (ipykernel)",
   "language": "python",
   "name": "python3"
  },
  "language_info": {
   "codemirror_mode": {
    "name": "ipython",
    "version": 3
   },
   "file_extension": ".py",
   "mimetype": "text/x-python",
   "name": "python",
   "nbconvert_exporter": "python",
   "pygments_lexer": "ipython3",
   "version": "3.12.3"
  }
 },
 "nbformat": 4,
 "nbformat_minor": 5
}
