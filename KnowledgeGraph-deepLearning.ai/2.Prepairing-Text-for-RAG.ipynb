{
 "cells": [
  {
   "cell_type": "code",
   "execution_count": 6,
   "id": "b4b5f1cb-49a5-4169-bc8e-83935f900015",
   "metadata": {},
   "outputs": [],
   "source": [
    "from langchain_community.graphs import Neo4jGraph\n",
    "import warnings\n",
    "import os\n",
    "import requests\n",
    "warnings.filterwarnings('ignore')\n",
    "from dotenv import load_dotenv"
   ]
  },
  {
   "cell_type": "code",
   "execution_count": 7,
   "id": "10dd7e36-b663-4af9-9fa6-07aee1f74276",
   "metadata": {},
   "outputs": [],
   "source": [
    "# Load from environment\n",
    "load_dotenv(override=True)\n",
    "NEO4J_URI = os.getenv('NEO4J_URI')\n",
    "NEO4J_USERNAME = os.getenv('NEO4J_USERNAME')\n",
    "NEO4J_PASSWORD = os.getenv('NEO4J_PASSWORD')\n",
    "NEO4J_DATABASE = os.getenv('NEO4J_DATABASE')"
   ]
  },
  {
   "cell_type": "code",
   "execution_count": 8,
   "id": "fd1d9e79-c0de-46ca-bc49-347c6cb01658",
   "metadata": {},
   "outputs": [],
   "source": [
    "kg = Neo4jGraph(\n",
    "    url = NEO4J_URI, username = NEO4J_USERNAME, password = NEO4J_PASSWORD, database = NEO4J_DATABASE\n",
    ")"
   ]
  },
  {
   "cell_type": "markdown",
   "id": "2c8f33bf-1d57-47ce-8551-31818bd01e4e",
   "metadata": {},
   "source": [
    "## Make index of unknow department node"
   ]
  },
  {
   "cell_type": "code",
   "execution_count": 9,
   "id": "5258fa83-3029-4455-a538-fb6ca3c8c3a3",
   "metadata": {},
   "outputs": [
    {
     "data": {
      "text/plain": [
       "[]"
      ]
     },
     "execution_count": 9,
     "metadata": {},
     "output_type": "execute_result"
    }
   ],
   "source": [
    "kg.query(\"\"\"\n",
    "CREATE VECTOR INDEX unk_name_embeddings IF NOT EXISTS\n",
    "FOR (d:`Unknown Department`) ON (d.name)\n",
    "OPTIONS {\n",
    "  indexConfig: {\n",
    "    `vector.dimensions`: 1024,\n",
    "    `vector.similarity_function`: 'cosine'\n",
    "  }\n",
    "}\n",
    "\"\"\")"
   ]
  },
  {
   "cell_type": "code",
   "execution_count": 10,
   "id": "d6b15db7-6864-4922-ad09-09902dc1f2a0",
   "metadata": {},
   "outputs": [
    {
     "data": {
      "text/plain": [
       "[{'id': 2,\n",
       "  'name': 'unk_name_embeddings',\n",
       "  'state': 'ONLINE',\n",
       "  'populationPercent': 100.0,\n",
       "  'type': 'VECTOR',\n",
       "  'entityType': 'NODE',\n",
       "  'labelsOrTypes': ['Unknown Department'],\n",
       "  'properties': ['name'],\n",
       "  'indexProvider': 'vector-2.0',\n",
       "  'owningConstraint': None,\n",
       "  'lastRead': None,\n",
       "  'readCount': None}]"
      ]
     },
     "execution_count": 10,
     "metadata": {},
     "output_type": "execute_result"
    }
   ],
   "source": [
    "kg.query(\"\"\"\n",
    "  SHOW VECTOR INDEXES\n",
    "  \"\"\"\n",
    ")"
   ]
  },
  {
   "cell_type": "code",
   "execution_count": 11,
   "id": "0c77d1ec-1b3b-4dee-bcb4-10be973a3a10",
   "metadata": {},
   "outputs": [],
   "source": [
    "def get_embedding(text):\n",
    "    response = requests.post(\n",
    "        \"http://localhost:11434/api/embeddings\",\n",
    "        json={\"model\": \"mxbai-embed-large\", \"prompt\": text}\n",
    "    )\n",
    "    response.raise_for_status()\n",
    "    return response.json()[\"embedding\"]"
   ]
  },
  {
   "cell_type": "code",
   "execution_count": 12,
   "id": "7814ec3a-af1e-457a-84ed-5b14b5d1c6bc",
   "metadata": {},
   "outputs": [],
   "source": [
    "records = kg.query(\"\"\"\n",
    "MATCH (unk:`Unknown Department`)\n",
    "WHERE unk.name IS NOT NULL\n",
    "RETURN elementId(unk) AS id, unk.name as name\n",
    "\"\"\")\n"
   ]
  },
  {
   "cell_type": "code",
   "execution_count": 13,
   "id": "38b33b00-1915-42b4-844d-1d96efcd6c88",
   "metadata": {},
   "outputs": [
    {
     "name": "stdout",
     "output_type": "stream",
     "text": [
      "✅ Embedding Unknown Dept: Peter\n",
      "✅ Embedding Unknown Dept: Mir\n",
      "✅ Embedding Unknown Dept: Mashusa\n",
      "✅ Embedding Unknown Dept: Tehir\n"
     ]
    }
   ],
   "source": [
    "for record in records:\n",
    "    unk_id = record['id']\n",
    "    name = record['name']\n",
    "    if name:\n",
    "        try:\n",
    "            embedding = get_embedding(name)\n",
    "            kg.query(\n",
    "                \"\"\"\n",
    "                MATCH (u) WHERE elementId(u) = $id\n",
    "                SET u.name_embeddings = $embedding\n",
    "                \"\"\",\n",
    "                params = {'id': unk_id, 'embedding': embedding}\n",
    "            )\n",
    "            print(f\"✅ Embedding Unknown Dept: {name}\")\n",
    "        except Exception as e:\n",
    "            print(f\"❌ Failed for {name}: {e}\")"
   ]
  },
  {
   "cell_type": "code",
   "execution_count": 14,
   "id": "5afb9021-4d21-46c6-9894-96729d6c213e",
   "metadata": {},
   "outputs": [],
   "source": [
    "result = kg.query(\"\"\"\n",
    "    MATCH(unk: `Unknown Department`)\n",
    "    WHERE unk.name IS NOT NULL\n",
    "    RETURN unk.name, unk.name_embeddings\n",
    "    Limit 1\"\"\")"
   ]
  },
  {
   "cell_type": "code",
   "execution_count": 15,
   "id": "fe8f1869-6b97-4d31-8777-a53b85620eff",
   "metadata": {},
   "outputs": [
    {
     "name": "stdout",
     "output_type": "stream",
     "text": [
      "Peter\n"
     ]
    }
   ],
   "source": [
    "print(result[0]['unk.name'])"
   ]
  },
  {
   "cell_type": "code",
   "execution_count": 16,
   "id": "2135d385-475c-461e-a298-18efbf00b54a",
   "metadata": {},
   "outputs": [
    {
     "name": "stdout",
     "output_type": "stream",
     "text": [
      "[-0.3372099995613098, -0.7694968581199646, -0.11872391402721405, -0.7180010676383972, -0.43985849618911743, -0.13399681448936462, 0.09659945964813232, 0.10092643648386002, 0.5681824088096619, -0.08018582314252853]\n"
     ]
    }
   ],
   "source": [
    "print(result[0]['unk.name_embeddings'][:10])"
   ]
  },
  {
   "cell_type": "code",
   "execution_count": 17,
   "id": "36d81f8a-aea1-4748-83c9-295e000ba82d",
   "metadata": {},
   "outputs": [
    {
     "name": "stdout",
     "output_type": "stream",
     "text": [
      "1024\n"
     ]
    }
   ],
   "source": [
    "print(len(result[0]['unk.name_embeddings']))"
   ]
  },
  {
   "cell_type": "markdown",
   "id": "02ce142e-e42b-4440-92a2-d1b19ea26e6a",
   "metadata": {},
   "source": [
    "## Ask Question"
   ]
  },
  {
   "cell_type": "code",
   "execution_count": 18,
   "id": "9c919ab0-33d9-4200-b627-f26983486e37",
   "metadata": {},
   "outputs": [],
   "source": [
    "question = \"What name is peter?\""
   ]
  },
  {
   "cell_type": "code",
   "execution_count": 19,
   "id": "c87b3277-29e2-476f-8b6a-2afbb623371b",
   "metadata": {},
   "outputs": [],
   "source": [
    "embedding = get_embedding(question)"
   ]
  },
  {
   "cell_type": "code",
   "execution_count": 21,
   "id": "975046b7-0d64-44e6-834c-8ac3a487a089",
   "metadata": {},
   "outputs": [],
   "source": [
    "results = kg.query(\"\"\"\n",
    "WITH $embedding AS query_embedding\n",
    "MATCH (u:`Unknown Department`)\n",
    "WHERE u.name_embeddings IS NOT NULL\n",
    "WITH u, gds.similarity.cosine(u.name_embeddings, query_embedding) AS score\n",
    "RETURN u.name AS name, score\n",
    "ORDER BY score DESC\n",
    "\"\"\", params={\"embedding\": embedding})\n"
   ]
  },
  {
   "cell_type": "code",
   "execution_count": 22,
   "id": "08f5d224-ef19-4226-9911-4880a09c6a3b",
   "metadata": {},
   "outputs": [
    {
     "name": "stdout",
     "output_type": "stream",
     "text": [
      "🔍 Match Peter | Similarity:  0.8495\n",
      "🔍 Match Mir | Similarity:  0.4153\n",
      "🔍 Match Mashusa | Similarity:  0.4065\n",
      "🔍 Match Tehir | Similarity:  0.3851\n"
     ]
    }
   ],
   "source": [
    "for result in results:\n",
    "    print(f\"🔍 Match {result['name']} | Similarity: {result['score']: .4f}\")"
   ]
  },
  {
   "cell_type": "code",
   "execution_count": null,
   "id": "1a291e3a-9378-47f4-8756-b95a7852c01e",
   "metadata": {},
   "outputs": [],
   "source": []
  }
 ],
 "metadata": {
  "kernelspec": {
   "display_name": "Python 3 (ipykernel)",
   "language": "python",
   "name": "python3"
  },
  "language_info": {
   "codemirror_mode": {
    "name": "ipython",
    "version": 3
   },
   "file_extension": ".py",
   "mimetype": "text/x-python",
   "name": "python",
   "nbconvert_exporter": "python",
   "pygments_lexer": "ipython3",
   "version": "3.12.3"
  }
 },
 "nbformat": 4,
 "nbformat_minor": 5
}
